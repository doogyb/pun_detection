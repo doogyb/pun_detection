{
 "cells": [
  {
   "cell_type": "code",
   "execution_count": 6,
   "metadata": {},
   "outputs": [],
   "source": [
    "from src.data_processing import load_cmu, load_data\n",
    "import itertools  \n",
    "from pprint import pprint\n",
    "from nltk.corpus import cmudict\n",
    "import nltk\n",
    "import xmltodict\n",
    "from matplotlib import pyplot as plt\n",
    "from collections import Counter\n",
    "from src.string_similarity import levenshtein\n",
    "from src.pronunciations import phonetic_distance\n",
    "import json"
   ]
  },
  {
   "cell_type": "code",
   "execution_count": 8,
   "metadata": {},
   "outputs": [],
   "source": [
    "# Removing stresses\n",
    "cmu = cmudict.dict()\n",
    "for key, val in cmu.items():\n",
    "    for i, phoneme in enumerate(val):\n",
    "        cmu[key][i] = list(map(lambda ph: ph[:2], phoneme))"
   ]
  },
  {
   "cell_type": "code",
   "execution_count": 3,
   "metadata": {},
   "outputs": [],
   "source": [
    "task1, task2, task3, min_pairs, strings, pun_strings = load_data()"
   ]
  },
  {
   "cell_type": "code",
   "execution_count": 4,
   "metadata": {},
   "outputs": [
    {
     "data": {
      "text/plain": [
       "108209"
      ]
     },
     "execution_count": 4,
     "metadata": {},
     "output_type": "execute_result"
    }
   ],
   "source": [
    "sum(len(s) for s in strings)"
   ]
  },
  {
   "cell_type": "code",
   "execution_count": 17,
   "metadata": {},
   "outputs": [
    {
     "name": "stdout",
     "output_type": "stream",
     "text": [
      "Mean:  2.4234972677595628\n",
      "Mode:  2\n",
      "STD:  1.4064812116795153\n",
      "Min:  0\n",
      "Max:  10\n",
      "Mean:  0.7199152885728746\n",
      "Mode:  1.0\n",
      "STD:  0.22801368072679934\n",
      "Min:  0.0\n",
      "Max:  1.0\n"
     ]
    }
   ],
   "source": [
    "from statistics import *\n",
    "def distances(method):\n",
    "    levenshtein_distances = [method(w1, w2) for w1, w2 in min_pairs]\n",
    "    print(\"Mean: \", mean(levenshtein_distances))\n",
    "    print(\"Mode: \", mode(levenshtein_distances))\n",
    "    print(\"STD: \", stdev(levenshtein_distances))\n",
    "    print(\"Min: \", min(levenshtein_distances))\n",
    "    print(\"Max: \", max(levenshtein_distances))\n",
    "distances(levenshtein)\n",
    "distances(phonetic_distance)"
   ]
  },
  {
   "cell_type": "code",
   "execution_count": 34,
   "metadata": {},
   "outputs": [
    {
     "data": {
      "image/png": "[encoded data removed]",
      "text/plain": [
       "<matplotlib.figure.Figure at 0x7f53042d6438>"
      ]
     },
     "metadata": {},
     "output_type": "display_data"
    }
   ],
   "source": [
    "c = Counter(levenshtein_distances)\n",
    "plt.bar(list(c.keys()), list(c.values()))\n",
    "plt.show()"
   ]
  },
  {
   "cell_type": "code",
   "execution_count": 36,
   "metadata": {},
   "outputs": [
    {
     "name": "stdout",
     "output_type": "stream",
     "text": [
      "Number sharing same first phoneme:  0.85\n",
      "Number with same first letter:  0.802367941712204\n",
      "First letter first phoneme:  0.85\n"
     ]
    }
   ],
   "source": [
    "pairs_in_cmu = [(w1, w2) for w1, w2 in min_pairs if w1 in cmu and w2 in cmu]\n",
    "shared_first_phoneme = [(w1, w2) for w1, w2 in min_pairs if w1 in cmu and w2 in cmu and cmu[w1][0][0] == cmu[w2][0][0]]\n",
    "first_letter_first_phoneme = [(w1, w2) for w1, w2 in min_pairs if w1 in cmu and w2 in cmu \n",
    "                              and cmu[w1][0][0] == cmu[w2][0][0]]\n",
    "print(\"Number sharing same first phoneme: \", len(shared_first_phoneme) / len(pairs_in_cmu))\n",
    "print(\"Number with same first letter: \", len([_ for w1, w2 in min_pairs if w1[0] == w2[0]]) / len(min_pairs))\n",
    "print(\"First letter first phoneme: \", len(first_letter_first_phoneme) / len(pairs_in_cmu))"
   ]
  },
  {
   "cell_type": "code",
   "execution_count": 2,
   "metadata": {},
   "outputs": [],
   "source": [
    "from src.data_processing import print_progress, load_cmu\n",
    "import json\n",
    "seen = set()\n",
    "cmu = load_cmu()\n",
    "\n",
    "with open(\"data/ngram_searchspace/ngram_totals.json\") as f:\n",
    "    db = json.load(f)"
   ]
  },
  {
   "cell_type": "code",
   "execution_count": 3,
   "metadata": {},
   "outputs": [],
   "source": [
    "from src.pronunciations import phonetic_translation\n",
    "import string\n",
    "ascii_set = set(string.ascii_uppercase + string.ascii_lowercase)"
   ]
  },
  {
   "cell_type": "code",
   "execution_count": null,
   "metadata": {},
   "outputs": [],
   "source": [
    "# new_cmu = {}\n",
    "# # seen = set()\n",
    "# for i, pun in enumerate(db):\n",
    "#     print_progress(i, len(db))\n",
    "    \n",
    "#     for og, subs in pun.items():\n",
    "\n",
    "#         og_word = og.split()[1].lower()\n",
    "#         if og_word not in cmu and og_word not in seen:\n",
    "#             try:\n",
    "#                 new_cmu[og_word] = [phonetic_translation(og_word)]\n",
    "#                 seen.add(og_word)\n",
    "#             except:\n",
    "#                 seen.add(og_word)\n",
    "#                 pass\n",
    "#         for sub in subs['substitutions']:\n",
    "#             s_word = sub.split()[1].lower()\n",
    "#             if not ascii_set.issuperset(s_word):\n",
    "#                 continue\n",
    "#             if s_word not in cmu and s_word not in seen:\n",
    "#                 try:\n",
    "#                     new_cmu[s_word] = [phonetic_translation(s_word)]\n",
    "#                     seen.add(s_word)\n",
    "#                 except IndexError:\n",
    "#                     seen.add(s_word)\n",
    "#                     pass\n",
    "#                 except KeyboardInterrupt:\n",
    "#                     print(\"Seen: {}\".format(len(seen)))\n",
    "#                 except:\n",
    "#                     print(s_word)\n",
    "#                     raise\n",
    "#                     seen.add(s_word)\n",
    "#                     pass"
   ]
  },
  {
   "cell_type": "code",
   "execution_count": 7,
   "metadata": {},
   "outputs": [],
   "source": [
    "with open(\"corpus/new_cmu.json\") as f:\n",
    "    new_cmu = json.load(f)"
   ]
  },
  {
   "cell_type": "code",
   "execution_count": 5,
   "metadata": {},
   "outputs": [
    {
     "data": {
      "text/plain": [
       "123455"
      ]
     },
     "execution_count": 5,
     "metadata": {},
     "output_type": "execute_result"
    }
   ],
   "source": [
    "# Size of original CMU dict\n",
    "len(cmu)"
   ]
  },
  {
   "cell_type": "code",
   "execution_count": 6,
   "metadata": {},
   "outputs": [
    {
     "data": {
      "text/plain": [
       "1064663"
      ]
     },
     "execution_count": 6,
     "metadata": {},
     "output_type": "execute_result"
    }
   ],
   "source": [
    "# Size of new CMU dict\n",
    "len(new_cmu)"
   ]
  },
  {
   "cell_type": "code",
   "execution_count": 25,
   "metadata": {
    "scrolled": true
   },
   "outputs": [],
   "source": [
    "# Number of trigrams, size of Vocabulary\n",
    "trigram_vocabulary = set()\n",
    "total_size = 0\n",
    "for example in db:\n",
    "    for t, v in example.items():\n",
    "        for subs in v['substitutions']:\n",
    "            total_size += 1\n",
    "            trigram_vocabulary.add(subs.split()[1])"
   ]
  },
  {
   "cell_type": "code",
   "execution_count": 24,
   "metadata": {},
   "outputs": [
    {
     "data": {
      "text/plain": [
       "(66639115, 2415746)"
      ]
     },
     "execution_count": 24,
     "metadata": {},
     "output_type": "execute_result"
    }
   ],
   "source": [
    "total_size, len(trigram_vocabulary)"
   ]
  },
  {
   "cell_type": "code",
   "execution_count": 36,
   "metadata": {},
   "outputs": [
    {
     "data": {
      "text/plain": [
       "(242239, 0.10027502891446369)"
      ]
     },
     "execution_count": 36,
     "metadata": {},
     "output_type": "execute_result"
    }
   ],
   "source": [
    "# Number of trigram vocab words in cmu\n",
    "tri_in_cmu = len([w for w in trigram_vocabulary if w.lower() in cmu])\n",
    "tri_in_cmu, tri_in_cmu / len(trigram_vocabulary)"
   ]
  },
  {
   "cell_type": "code",
   "execution_count": 52,
   "metadata": {},
   "outputs": [
    {
     "data": {
      "text/plain": [
       "2173507"
      ]
     },
     "execution_count": 52,
     "metadata": {},
     "output_type": "execute_result"
    }
   ],
   "source": [
    "len([w for w in trigram_vocabulary if w.lower() not in cmu])"
   ]
  },
  {
   "cell_type": "code",
   "execution_count": 59,
   "metadata": {},
   "outputs": [
    {
     "data": {
      "text/plain": [
       "(1331736, 0.5512731884891872)"
      ]
     },
     "execution_count": 59,
     "metadata": {},
     "output_type": "execute_result"
    }
   ],
   "source": [
    "tot_reduced = len([w for w in trigram_vocabulary if w.lower() not in cmu and ascii_set.issuperset(w)])\n",
    "tot_reduced, tot_reduced / len(trigram_vocabulary)"
   ]
  },
  {
   "cell_type": "code",
   "execution_count": 56,
   "metadata": {},
   "outputs": [
    {
     "data": {
      "text/plain": [
       "1064663"
      ]
     },
     "execution_count": 56,
     "metadata": {},
     "output_type": "execute_result"
    }
   ],
   "source": [
    "len(combined_cmu) - len(cmu)"
   ]
  },
  {
   "cell_type": "code",
   "execution_count": 10,
   "metadata": {},
   "outputs": [],
   "source": [
    "# Number of trigram vocab words in combined_cmu\n",
    "combined_cmu = {}\n",
    "for k, v, in cmu.items():\n",
    "    combined_cmu[k] = v\n",
    "for k, v in new_cmu.items():\n",
    "    combined_cmu[k] = v\n",
    "# tri_in_new_cmu = len([w for w in trigram_vocabulary if w.lower() in combined_cmu])\n",
    "# tri_in_new_cmu, tri_in_new_cmu / len(trigram_vocabulary)"
   ]
  },
  {
   "cell_type": "code",
   "execution_count": 12,
   "metadata": {},
   "outputs": [],
   "source": [
    "with open(\"corpus/combined_cmu.json\", 'w') as f:\n",
    "    json.dump(combined_cmu, f)"
   ]
  },
  {
   "cell_type": "code",
   "execution_count": 57,
   "metadata": {},
   "outputs": [],
   "source": [
    "# Length of filtered trigram, accepting only words compromised of ascii values\n",
    "filtered_trigram_vocabulary = [w for w in trigram_vocabulary if ascii_set.issuperset(w)]"
   ]
  },
  {
   "cell_type": "code",
   "execution_count": 58,
   "metadata": {},
   "outputs": [
    {
     "data": {
      "text/plain": [
       "(1573422, 0.6513193026088008)"
      ]
     },
     "execution_count": 58,
     "metadata": {},
     "output_type": "execute_result"
    }
   ],
   "source": [
    "len(filtered_trigram_vocabulary), len(filtered_trigram_vocabulary) / len(trigram_vocabulary)"
   ]
  },
  {
   "cell_type": "code",
   "execution_count": 39,
   "metadata": {},
   "outputs": [
    {
     "data": {
      "text/plain": [
       "(1573422, 1.0)"
      ]
     },
     "execution_count": 39,
     "metadata": {},
     "output_type": "execute_result"
    }
   ],
   "source": [
    "filtered_tri_in_new_cmu = len([w for w in filtered_trigram_vocabulary if w.lower() in combined_cmu])\n",
    "filtered_tri_in_new_cmu, filtered_tri_in_new_cmu / len(filtered_trigram_vocabulary)"
   ]
  },
  {
   "cell_type": "code",
   "execution_count": 45,
   "metadata": {},
   "outputs": [
    {
     "name": "stdout",
     "output_type": "stream",
     "text": [
      "Time taken: 0.0001308917999267578\n"
     ]
    }
   ],
   "source": [
    "import random\n",
    "import time\n",
    "import cProfile\n",
    "\n",
    "trigram_vocab_aslist = list(trigram_vocabulary)\n",
    "\n",
    "example_size = 1000\n",
    "\n",
    "random_words = [trigram_vocab_aslist[i] for i in random.sample(range(len(trigram_vocabulary)), example_size)]\n",
    "before = time.time()\n",
    "\n",
    "for w in random_words:\n",
    "    try:\n",
    "        phonetic_translation(w)\n",
    "#         if w.lower() not in new_cmu:\n",
    "#             continue\n",
    "#         p = new_cmu[w.lower()]\n",
    "    except IndexError:\n",
    "        pass\n",
    "time_taken = time.time() - before\n",
    "print(\"Time taken: {}\".format(time_taken))"
   ]
  },
  {
   "cell_type": "code",
   "execution_count": 65,
   "metadata": {},
   "outputs": [
    {
     "name": "stdout",
     "output_type": "stream",
     "text": [
      "Time taken: 0.7427577972412109\n"
     ]
    }
   ],
   "source": [
    "before = time.time()\n",
    "{w: combined_cmu[w] for w in trigram_vocabulary if w in combined_cmu}\n",
    "time_taken = time.time() - before\n",
    "print(\"Time taken: {}\".format(time_taken))"
   ]
  },
  {
   "cell_type": "code",
   "execution_count": 44,
   "metadata": {},
   "outputs": [
    {
     "data": {
      "text/plain": [
       "0.08753555703163148"
      ]
     },
     "execution_count": 44,
     "metadata": {},
     "output_type": "execute_result"
    }
   ],
   "source": [
    "time_per_example = time_taken / example_size\n",
    "time_per_example"
   ]
  },
  {
   "cell_type": "code",
   "execution_count": 51,
   "metadata": {},
   "outputs": [
    {
     "data": {
      "text/plain": [
       "38.25843644883991"
      ]
     },
     "execution_count": 51,
     "metadata": {},
     "output_type": "execute_result"
    }
   ],
   "source": [
    "(time_per_example * len(filtered_trigram_vocabulary)) / 3600"
   ]
  },
  {
   "cell_type": "code",
   "execution_count": 50,
   "metadata": {},
   "outputs": [
    {
     "data": {
      "text/plain": [
       "67.5149543011568"
      ]
     },
     "execution_count": 50,
     "metadata": {},
     "output_type": "execute_result"
    }
   ],
   "source": [
    "(time_per_example * total_size) / 3600 / 24"
   ]
  },
  {
   "cell_type": "code",
   "execution_count": 35,
   "metadata": {},
   "outputs": [
    {
     "data": {
      "text/plain": [
       "0.6515511150592819"
      ]
     },
     "execution_count": 35,
     "metadata": {},
     "output_type": "execute_result"
    }
   ],
   "source": [
    "len([w for w in trigram_vocabulary if w.lower() in new_cmu or w.lower() in cmu]) / len(trigram_vocabulary)"
   ]
  },
  {
   "cell_type": "code",
   "execution_count": 32,
   "metadata": {},
   "outputs": [
    {
     "data": {
      "text/plain": [
       "['AH', 'N', 'ER', 'D', 'ER', 'D']"
      ]
     },
     "execution_count": 32,
     "metadata": {},
     "output_type": "execute_result"
    }
   ],
   "source": [
    "phonetic_translation('UNORDERED')"
   ]
  },
  {
   "cell_type": "code",
   "execution_count": 60,
   "metadata": {},
   "outputs": [
    {
     "data": {
      "text/plain": [
       "32.38173682752132"
      ]
     },
     "execution_count": 60,
     "metadata": {},
     "output_type": "execute_result"
    }
   ],
   "source": [
    "(time_per_example * 1331736) / 3600"
   ]
  },
  {
   "cell_type": "code",
   "execution_count": 61,
   "metadata": {},
   "outputs": [
    {
     "ename": "NameError",
     "evalue": "name 'strings' is not defined",
     "output_type": "error",
     "traceback": [
      "\u001b[0;31m---------------------------------------------------------------------------\u001b[0m",
      "\u001b[0;31mNameError\u001b[0m                                 Traceback (most recent call last)",
      "\u001b[0;32m<ipython-input-61-cbf23a5a86ef>\u001b[0m in \u001b[0;36m<module>\u001b[0;34m()\u001b[0m\n\u001b[0;32m----> 1\u001b[0;31m \u001b[0mstrings\u001b[0m\u001b[0;34m\u001b[0m\u001b[0m\n\u001b[0m",
      "\u001b[0;31mNameError\u001b[0m: name 'strings' is not defined"
     ]
    }
   ],
   "source": [
    "strings"
   ]
  },
  {
   "cell_type": "code",
   "execution_count": null,
   "metadata": {},
   "outputs": [],
   "source": []
  }
 ],
 "metadata": {
  "kernelspec": {
   "display_name": "Python 3",
   "language": "python",
   "name": "python3"
  },
  "language_info": {
   "codemirror_mode": {
    "name": "ipython",
    "version": 3
   },
   "file_extension": ".py",
   "mimetype": "text/x-python",
   "name": "python",
   "nbconvert_exporter": "python",
   "pygments_lexer": "ipython3",
   "version": "3.5.2"
  }
 },
 "nbformat": 4,
 "nbformat_minor": 2
}
