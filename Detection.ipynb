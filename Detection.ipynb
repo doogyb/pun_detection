{
 "cells": [
  {
   "cell_type": "code",
   "execution_count": 1,
   "metadata": {},
   "outputs": [],
   "source": [
    "import json\n",
    "from src.data_processing import print_progress, scores_as_list, load_data, load_cmu\n",
    "import numpy as np\n",
    "from gensim import models\n",
    "from src.pun_algorithms import is_Tom_Swifty\n",
    "\n",
    "\n",
    "from sklearn.model_selection import KFold\n",
    "from sklearn.model_selection import cross_val_score\n",
    "from sklearn.svm import SVC\n",
    "from sklearn.metrics import classification_report, precision_recall_fscore_support\n",
    "from sklearn.linear_model import LogisticRegression\n",
    "from sklearn.utils import class_weight\n",
    "from sklearn.ensemble import RandomForestClassifier\n",
    "from pprint import pprint\n",
    "\n",
    "\n",
    "import warnings\n",
    "warnings.filterwarnings('ignore')"
   ]
  },
  {
   "cell_type": "code",
   "execution_count": 2,
   "metadata": {},
   "outputs": [],
   "source": [
    "# model = models.KeyedVectors.load_word2vec_format(\"/home/doogy/Data/GoogleNews-vectors-negative300.bin.gz\", binary=True)"
   ]
  },
  {
   "cell_type": "code",
   "execution_count": 3,
   "metadata": {},
   "outputs": [],
   "source": [
    "task1, task2, task3, min_pairs, strings, pun_strings = load_data()\n",
    "with open(\"results/tom_swifties.json\") as f:\n",
    "    tom_swifty_annotations = json.load(f)"
   ]
  },
  {
   "cell_type": "code",
   "execution_count": 4,
   "metadata": {},
   "outputs": [],
   "source": [
    "def get_subs(path):\n",
    "    substitutions = scores_as_list(path)\n",
    "\n",
    "    with open(\"data/t1-t2-mappings.json\") as f:\n",
    "        mappings = {int(k): int(v) for k, v in json.load(f).items()}\n",
    "\n",
    "    subs = []\n",
    "    for i, (t1, t2) in enumerate(mappings.items()):\n",
    "        subs.append(list(sorted(substitutions[t2].items(), key=lambda x: x[1][0][1], reverse=True)))\n",
    "    return subs"
   ]
  },
  {
   "cell_type": "code",
   "execution_count": 5,
   "metadata": {},
   "outputs": [],
   "source": [
    "def row_to_string(phonetic, pos, d, r):\n",
    "    return (         str(phonetic)\n",
    "            + \", \" + str(pos)\n",
    "            + \", \" + \"{0:.3f}\".format(d['coverage'])\n",
    "            + \", \" + \"{0:.3f}\".format(d['precision'])\n",
    "            + \", \" + \"{0:.3f}\".format(d['recall'])\n",
    "            + \", \" + \"{0:.3f}\".format(d['f1-score'])\n",
    "            + \", \" + \"{0:.3f}\\n\".format(r))"
   ]
  },
  {
   "cell_type": "markdown",
   "metadata": {},
   "source": [
    "# Coverage, Precision, Recall, Accuracy"
   ]
  },
  {
   "cell_type": "code",
   "execution_count": 6,
   "metadata": {
    "scrolled": true
   },
   "outputs": [],
   "source": [
    "def measures(dataset):\n",
    "    tp = 0\n",
    "    guesses = 0\n",
    "    for i in range(len(task2)):\n",
    "        if tom_swifty_annotations[i]:\n",
    "            tp += int(task2[i]['target'] == tom_swifty_annotations[i][0][0])\n",
    "            guesses += 1\n",
    "        else:\n",
    "            try:\n",
    "                tp += int(task2[i]['target'] == dataset[i][0][0].split()[1])\n",
    "                guesses += 1\n",
    "            except:\n",
    "                pass\n",
    "    results = {}\n",
    "    results[\"coverage\" ] = guesses / len(task2)\n",
    "    results[\"precision\"] = tp/guesses\n",
    "    results[\"recall\"   ] = tp/len(task2)\n",
    "    results[\"f1-score\" ] = (2 * (tp/guesses) * (tp/len(task2))) / ((tp/guesses) + (tp/len(task2)))\n",
    "\n",
    "    return results"
   ]
  },
  {
   "cell_type": "markdown",
   "metadata": {},
   "source": [
    "# Mean Reciprocal Rank"
   ]
  },
  {
   "cell_type": "code",
   "execution_count": 7,
   "metadata": {},
   "outputs": [],
   "source": [
    "def mrr(substitutions):\n",
    "    total_rank = 0\n",
    "    for i in range(len(task2)):\n",
    "        target = task2[i]['target']\n",
    "\n",
    "        if tom_swifty_annotations[i]:\n",
    "            ranks = [r[0] for r in tom_swifty_annotations[i]]\n",
    "            if target in ranks:\n",
    "                total_rank += 1 / (ranks.index(target) + 1)\n",
    "        else:\n",
    "            try:\n",
    "                ranks = [r[0].split()[1] for r in substitutions[i]]\n",
    "                if target in ranks:\n",
    "                    total_rank += 1 / (ranks.index(target) + 1)\n",
    "            except:\n",
    "                pass   \n",
    "\n",
    "    print(\"Mean Reciprocal Rank: \", total_rank / len(task2))\n",
    "    return total_rank / len(task2)"
   ]
  },
  {
   "cell_type": "code",
   "execution_count": 8,
   "metadata": {},
   "outputs": [
    {
     "name": "stdout",
     "output_type": "stream",
     "text": [
      " |████████████████████████████████████████████████████████████████████████████████████████████████████| 99.9% Mean Reciprocal Rank:  0.7144636768948335\n",
      " |████████████████████████████████████████████████████████████████████████████████████████████████████| 99.9% Mean Reciprocal Rank:  0.7152504589562025\n",
      " |████████████████████████████████████████████████████████████████████████████████████████████████████| 99.9% Mean Reciprocal Rank:  0.8027930763178601\n",
      "returning from json\n",
      "Mean Reciprocal Rank:  0.81168371361133\n"
     ]
    }
   ],
   "source": [
    "locations = ([('phonetic_filter_no_pos', True, False),\n",
    "              ('phonetic_filter_with_pos', True, True),\n",
    "              ('all_trigram_no_pos', False, False),\n",
    "              ('all_trigram_with_pos', False, True)])\n",
    "\n",
    "with open(\"results/tables/detection.json\", 'w') as f:\n",
    "    f.write(\"Phonetic Filter, Use Position, Coverage, Precision, Recall, F1\\n\")\n",
    "    for loc, phon, filt in locations:\n",
    "        subs = get_subs(loc)\n",
    "        measure = measures(subs)\n",
    "        r = mrr(subs)\n",
    "        f.write(row_to_string(phon, filt, measure, r))\n",
    "        "
   ]
  }
 ],
 "metadata": {
  "kernelspec": {
   "display_name": "Python 3",
   "language": "python",
   "name": "python3"
  },
  "language_info": {
   "codemirror_mode": {
    "name": "ipython",
    "version": 3
   },
   "file_extension": ".py",
   "mimetype": "text/x-python",
   "name": "python",
   "nbconvert_exporter": "python",
   "pygments_lexer": "ipython3",
   "version": "3.5.2"
  }
 },
 "nbformat": 4,
 "nbformat_minor": 2
}
