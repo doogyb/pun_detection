{
 "cells": [
  {
   "cell_type": "code",
   "execution_count": 1,
   "metadata": {},
   "outputs": [],
   "source": [
    "import json\n",
    "from src.data_processing import print_progress\n",
    "\n",
    "def ranked_vectors(path):\n",
    "    subs = []\n",
    "    for index in range(1780):\n",
    "        print_progress(index, 1780)\n",
    "        full_path = \"results/{}/{}\".format(path, index)\n",
    "        with open(full_path) as f:\n",
    "            subs.append(json.load(f))\n",
    "    return subs"
   ]
  },
  {
   "cell_type": "code",
   "execution_count": 2,
   "metadata": {},
   "outputs": [],
   "source": [
    "def number_of_substitutions(index, subs):\n",
    "    tot_sum = 0\n",
    "    for k, v in subs[index].items():\n",
    "        tot_sum += len(v)\n",
    "    return tot_sum"
   ]
  },
  {
   "cell_type": "code",
   "execution_count": 3,
   "metadata": {},
   "outputs": [],
   "source": [
    "def generate_ranked_vector(index, mvl, subs):\n",
    "    vec = [0] * mvl\n",
    "    scores = []\n",
    "    for k, v in subs[index].items():\n",
    "        scores.extend([score[1] for score in v])\n",
    "    vec[:len(scores)] = list(sorted(scores, reverse=True))\n",
    "    \n",
    "    return vec"
   ]
  },
  {
   "cell_type": "code",
   "execution_count": 4,
   "metadata": {},
   "outputs": [],
   "source": [
    "import numpy as np"
   ]
  },
  {
   "cell_type": "markdown",
   "metadata": {},
   "source": [
    "Load the vectors, dump as binary"
   ]
  },
  {
   "cell_type": "code",
   "execution_count": 6,
   "metadata": {},
   "outputs": [],
   "source": [
    "locations = (['phonetic_filter_no_pos',\n",
    "              'phonetic_filter_with_pos',\n",
    "              'all_trigram_no_pos',\n",
    "              'all_trigram_with_pos'])"
   ]
  },
  {
   "cell_type": "code",
   "execution_count": 7,
   "metadata": {},
   "outputs": [
    {
     "name": "stdout",
     "output_type": "stream",
     "text": [
      " |████████████████████████████████████████████████████████████████████████████████████████████████████| 99.9% "
     ]
    }
   ],
   "source": [
    "max_columns = 10000\n",
    "for p in locations:\n",
    "    \n",
    "    subs = ranked_vectors(p)\n",
    "    max_vector_length = (min(max(number_of_substitutions(i, subs) \n",
    "                             for i in range(1780)),\n",
    "                             max_columns)) \n",
    "    \n",
    "    vectors = ([generate_ranked_vector(i, max_vector_length, subs) \n",
    "                for i in range(1780)])\n",
    "    X = np.array(vectors)\n",
    "    with open('vectors/{}.np'.format(p), 'wb') as f:\n",
    "        np.save(f, X)"
   ]
  },
  {
   "cell_type": "code",
   "execution_count": 8,
   "metadata": {},
   "outputs": [],
   "source": [
    "from src.data_processing import load_data\n",
    "task1, task2, task3, min_pairs, strings, pun_strings = load_data()"
   ]
  },
  {
   "cell_type": "code",
   "execution_count": 9,
   "metadata": {},
   "outputs": [],
   "source": [
    "y = np.array([int(context['pun']) for context in task1])"
   ]
  },
  {
   "cell_type": "code",
   "execution_count": 68,
   "metadata": {},
   "outputs": [],
   "source": [
    "from sklearn.model_selection import KFold"
   ]
  },
  {
   "cell_type": "code",
   "execution_count": 69,
   "metadata": {},
   "outputs": [
    {
     "data": {
      "text/plain": [
       "10"
      ]
     },
     "execution_count": 69,
     "metadata": {},
     "output_type": "execute_result"
    }
   ],
   "source": [
    "kf = KFold(n_splits=10)\n",
    "kf.get_n_splits(X)"
   ]
  },
  {
   "cell_type": "code",
   "execution_count": 10,
   "metadata": {},
   "outputs": [],
   "source": [
    "from sklearn import svm"
   ]
  },
  {
   "cell_type": "code",
   "execution_count": null,
   "metadata": {},
   "outputs": [
    {
     "name": "stdout",
     "output_type": "stream",
     "text": [
      "[ 178  179  180 ..., 1777 1778 1779]\n"
     ]
    }
   ],
   "source": [
    "\n",
    "columns = 10\n",
    "from sklearn.metrics import classification_report\n",
    "for train_index, test_index in kf.split(X):\n",
    "    \n",
    "    print(train_index)\n",
    "    X_train, X_test = X[train_index, :columns], X[test_index, :columns]\n",
    "    y_train, y_test = y[train_index], y[test_index]\n",
    "    \n",
    "    clf = svm.SVC(kernel='linear')\n",
    "    clf.fit(X_train, y_train)\n",
    "    print(classification_report(y_test, clf.predict(X_test)))\n",
    "    input()\n",
    "    "
   ]
  },
  {
   "cell_type": "code",
   "execution_count": null,
   "metadata": {},
   "outputs": [
    {
     "name": "stdout",
     "output_type": "stream",
     "text": [
      "[LibSVM]"
     ]
    }
   ],
   "source": [
    "from sklearn.model_selection import cross_val_score\n",
    "clf = svm.SVC(kernel='linear', verbose=True)\n",
    "scores = cross_val_score(clf, X, y, cv=3)"
   ]
  },
  {
   "cell_type": "code",
   "execution_count": 23,
   "metadata": {},
   "outputs": [
    {
     "data": {
      "text/plain": [
       "array([ 0.67171717,  0.41582492,  0.61317568])"
      ]
     },
     "execution_count": 23,
     "metadata": {},
     "output_type": "execute_result"
    }
   ],
   "source": [
    "scores"
   ]
  },
  {
   "cell_type": "code",
   "execution_count": null,
   "metadata": {},
   "outputs": [],
   "source": []
  }
 ],
 "metadata": {
  "kernelspec": {
   "display_name": "Python 3",
   "language": "python",
   "name": "python3"
  },
  "language_info": {
   "codemirror_mode": {
    "name": "ipython",
    "version": 3
   },
   "file_extension": ".py",
   "mimetype": "text/x-python",
   "name": "python",
   "nbconvert_exporter": "python",
   "pygments_lexer": "ipython3",
   "version": "3.5.2"
  }
 },
 "nbformat": 4,
 "nbformat_minor": 2
}
