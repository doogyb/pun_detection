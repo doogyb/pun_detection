{
 "cells": [
  {
   "cell_type": "code",
   "execution_count": 1,
   "metadata": {
    "collapsed": true
   },
   "outputs": [],
   "source": [
    "%load_ext autoreload\n",
    "%autoreload 2"
   ]
  },
  {
   "cell_type": "code",
   "execution_count": 22,
   "metadata": {
    "collapsed": false
   },
   "outputs": [],
   "source": [
    "import operator"
   ]
  },
  {
   "cell_type": "code",
   "execution_count": 5,
   "metadata": {
    "collapsed": true
   },
   "outputs": [],
   "source": [
    "from subtask3 import synset_identifier, load_model"
   ]
  },
  {
   "cell_type": "code",
   "execution_count": 6,
   "metadata": {
    "collapsed": false
   },
   "outputs": [
    {
     "name": "stdout",
     "output_type": "stream",
     "text": [
      "loading model...\n",
      "finished loading model\n"
     ]
    }
   ],
   "source": [
    "m = load_model()"
   ]
  },
  {
   "cell_type": "code",
   "execution_count": 13,
   "metadata": {
    "collapsed": true
   },
   "outputs": [],
   "source": [
    "words = [('funds', -11.893890380859716), ('lands', -2970.2567300796545), ('bank', -3229.2567300796545), ('fund', -931090.5746154777), ('franchises', -931189.5746154777), ('thanks', -1046923.0), ('earnings', -1047387.0), ('plans', -1047501.0), ('Thanks', -1048487.0), ('change', -1048501.0)]"
   ]
  },
  {
   "cell_type": "code",
   "execution_count": 35,
   "metadata": {
    "collapsed": false
   },
   "outputs": [
    {
     "name": "stdout",
     "output_type": "stream",
     "text": [
      "funds\n",
      "lands\n",
      "bank\n",
      "fund\n",
      "franchises\n",
      "thanks\n",
      "earnings\n",
      "plans\n",
      "Thanks\n",
      "change\n"
     ]
    },
    {
     "data": {
      "text/plain": [
       "[(('said',\n",
       "   Synset('fund.v.01'),\n",
       "   u'convert floating into debt that bears fixed interest is represented by bonds'),\n",
       "  0.23368678843159493),\n",
       " (('said',\n",
       "   Synset('estate.n.02'),\n",
       "   u'extensive landed property in the retained by the owner for his own use'),\n",
       "  0.2768986235103319),\n",
       " (('said',\n",
       "   Synset('bank.v.03'),\n",
       "   u'do business with bank or keep an account at bank'),\n",
       "  0.27539219368875512),\n",
       " (('said',\n",
       "   Synset('fund.v.01'),\n",
       "   u'convert floating into debt that bears fixed interest is represented by bonds'),\n",
       "  0.23368678843159493),\n",
       " (('said',\n",
       "   Synset('franchise.n.03'),\n",
       "   u'statutory right or privilege granted person or group by government the rights citizenship the right'),\n",
       "  0.22951819946563895),\n",
       " (('said', Synset('thanks.n.01'), u'an acknowledgment appreciation'),\n",
       "  0.19522677631587687),\n",
       " (('said', Synset('wage.n.01'), u'something that remunerates'),\n",
       "  0.31275672671192806),\n",
       " (('said', Synset('plan.v.02'), u'make plans for something'),\n",
       "  0.36773030798775874),\n",
       " (('said', Synset('thanks.n.01'), u'an acknowledgment appreciation'),\n",
       "  0.19522677631587687),\n",
       " (('said', Synset('change.n.06'), u'thing that is different'),\n",
       "  0.3479566314091242)]"
      ]
     },
     "execution_count": 35,
     "metadata": {},
     "output_type": "execute_result"
    }
   ],
   "source": [
    "all_words = []\n",
    "for w in words:\n",
    "    print w[0]\n",
    "    all_words.append(synset_identifier(\"Two snakes parted , and one said , ' fangs for the memories ' .\", w[0], m))\n",
    "all_words"
   ]
  },
  {
   "cell_type": "code",
   "execution_count": 30,
   "metadata": {
    "collapsed": false
   },
   "outputs": [],
   "source": [
    "sorted_words = sorted(all_words, key=operator.itemgetter(1), reverse=True)"
   ]
  },
  {
   "cell_type": "code",
   "execution_count": 32,
   "metadata": {
    "collapsed": false
   },
   "outputs": [
    {
     "data": {
      "text/plain": [
       "[(('said', Synset('plan.v.02'), u'make plans for something'),\n",
       "  0.36773030798775874),\n",
       " (('said', Synset('change.n.06'), u'thing that is different'),\n",
       "  0.3479566314091242),\n",
       " (('said', Synset('wage.n.01'), u'something that remunerates'),\n",
       "  0.31275672671192806),\n",
       " (('said',\n",
       "   Synset('estate.n.02'),\n",
       "   u'extensive landed property in the retained by the owner for his own use'),\n",
       "  0.2768986235103319),\n",
       " (('said',\n",
       "   Synset('bank.v.03'),\n",
       "   u'do business with bank or keep an account at bank'),\n",
       "  0.27539219368875512),\n",
       " (('said',\n",
       "   Synset('fund.v.01'),\n",
       "   u'convert floating into debt that bears fixed interest is represented by bonds'),\n",
       "  0.23368678843159493),\n",
       " (('said',\n",
       "   Synset('fund.v.01'),\n",
       "   u'convert floating into debt that bears fixed interest is represented by bonds'),\n",
       "  0.23368678843159493),\n",
       " (('said',\n",
       "   Synset('franchise.n.03'),\n",
       "   u'statutory right or privilege granted person or group by government the rights citizenship the right'),\n",
       "  0.22951819946563895),\n",
       " (('said', Synset('thanks.n.01'), u'an acknowledgment appreciation'),\n",
       "  0.19522677631587687),\n",
       " (('said', Synset('thanks.n.01'), u'an acknowledgment appreciation'),\n",
       "  0.19522677631587687)]"
      ]
     },
     "execution_count": 32,
     "metadata": {},
     "output_type": "execute_result"
    }
   ],
   "source": [
    "sorted_words"
   ]
  },
  {
   "cell_type": "code",
   "execution_count": 36,
   "metadata": {
    "collapsed": false
   },
   "outputs": [],
   "source": [
    "res = synset_identifier(\"Two snakes parted , and one said , ' fangs for the memories ' .\", 'Thanks', m)"
   ]
  },
  {
   "cell_type": "code",
   "execution_count": 37,
   "metadata": {
    "collapsed": false
   },
   "outputs": [
    {
     "data": {
      "text/plain": [
       "(('said', Synset('thanks.n.01'), u'an acknowledgment appreciation'),\n",
       " 0.19522677631587687)"
      ]
     },
     "execution_count": 37,
     "metadata": {},
     "output_type": "execute_result"
    }
   ],
   "source": [
    "res"
   ]
  },
  {
   "cell_type": "code",
   "execution_count": 39,
   "metadata": {
    "collapsed": false
   },
   "outputs": [],
   "source": [
    "from subtask3 import multiple_words_synset_identifier"
   ]
  },
  {
   "cell_type": "code",
   "execution_count": 40,
   "metadata": {
    "collapsed": true
   },
   "outputs": [],
   "source": [
    "from subtask3 import is_adverb"
   ]
  },
  {
   "cell_type": "code",
   "execution_count": 61,
   "metadata": {
    "collapsed": false
   },
   "outputs": [
    {
     "name": "stdout",
     "output_type": "stream",
     "text": [
      "[('My', 'PRP$'), ('stereo', 'NN'), (\"'s\", 'POS'), ('half', 'NN'), ('-', ':'), ('fixed', 'VBN'), (',', ','), ('said', 'VBD'), ('Tom', 'NNP'), ('monotonously', 'RB'), ('.', '.')]\n"
     ]
    }
   ],
   "source": [
    "is_adverb(\"My stereo's half - fixed , said Tom monotonously .\", 'monotonously')\n",
    "con = \"Two snakes parted , and one said , ' fangs for the memories ' .\""
   ]
  },
  {
   "cell_type": "code",
   "execution_count": 42,
   "metadata": {
    "collapsed": true
   },
   "outputs": [],
   "source": [
    "from semantic_similarity import get_cmu_tree"
   ]
  },
  {
   "cell_type": "code",
   "execution_count": 52,
   "metadata": {
    "collapsed": false
   },
   "outputs": [],
   "source": [
    "res = get_cmu_tree(\"monotonously\", 10)"
   ]
  },
  {
   "cell_type": "code",
   "execution_count": 53,
   "metadata": {
    "collapsed": false
   },
   "outputs": [
    {
     "data": {
      "text/plain": [
       "['monotonous', 'mono']"
      ]
     },
     "execution_count": 53,
     "metadata": {},
     "output_type": "execute_result"
    }
   ],
   "source": [
    "res"
   ]
  },
  {
   "cell_type": "code",
   "execution_count": 48,
   "metadata": {
    "collapsed": true
   },
   "outputs": [],
   "source": [
    "from semantic_similarity import get_prefixes"
   ]
  },
  {
   "cell_type": "code",
   "execution_count": 49,
   "metadata": {
    "collapsed": false
   },
   "outputs": [
    {
     "data": {
      "text/plain": [
       "['monotonous', 'mono']"
      ]
     },
     "execution_count": 49,
     "metadata": {},
     "output_type": "execute_result"
    }
   ],
   "source": [
    "get_prefixes(\"monotonously\")"
   ]
  },
  {
   "cell_type": "code",
   "execution_count": 56,
   "metadata": {
    "collapsed": false
   },
   "outputs": [
    {
     "data": {
      "text/plain": [
       "(('stereo',\n",
       "  Synset('mono.s.01'),\n",
       "  u'designating sound transmission or recording or reproduction over single channel'),\n",
       " 0.39101773764147463)"
      ]
     },
     "execution_count": 56,
     "metadata": {},
     "output_type": "execute_result"
    }
   ],
   "source": [
    "multiple_words_synset_identifier(con, res, m)"
   ]
  },
  {
   "cell_type": "code",
   "execution_count": 57,
   "metadata": {
    "collapsed": true
   },
   "outputs": [],
   "source": [
    "from subtask3 import produce_synset"
   ]
  },
  {
   "cell_type": "code",
   "execution_count": 89,
   "metadata": {
    "collapsed": false
   },
   "outputs": [],
   "source": [
    "og, other = produce_synset(\"\\\" It's the quotient of two integers , \\\" said Tom rationally .\", 'rationally', m)"
   ]
  },
  {
   "cell_type": "code",
   "execution_count": 83,
   "metadata": {
    "collapsed": false
   },
   "outputs": [
    {
     "data": {
      "text/plain": [
       "[u'ball', u'bawl']"
      ]
     },
     "execution_count": 83,
     "metadata": {},
     "output_type": "execute_result"
    }
   ],
   "source": [
    "get_cmu_tree(\"bawled\", 2)"
   ]
  },
  {
   "cell_type": "code",
   "execution_count": 98,
   "metadata": {
    "collapsed": false
   },
   "outputs": [
    {
     "data": {
      "text/plain": [
       "u'rationally%4:02:00::'"
      ]
     },
     "execution_count": 98,
     "metadata": {},
     "output_type": "execute_result"
    }
   ],
   "source": [
    "og[0][1].lemmas()[0].key()"
   ]
  },
  {
   "cell_type": "code",
   "execution_count": null,
   "metadata": {
    "collapsed": true
   },
   "outputs": [],
   "source": []
  }
 ],
 "metadata": {
  "kernelspec": {
   "display_name": "Python 3",
   "language": "python",
   "name": "python3"
  },
  "language_info": {
   "codemirror_mode": {
    "name": "ipython",
    "version": 3
   },
   "file_extension": ".py",
   "mimetype": "text/x-python",
   "name": "python",
   "nbconvert_exporter": "python",
   "pygments_lexer": "ipython3",
   "version": "3.5.2"
  }
 },
 "nbformat": 4,
 "nbformat_minor": 1
}
