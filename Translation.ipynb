{
 "cells": [
  {
   "cell_type": "code",
   "execution_count": 6,
   "metadata": {},
   "outputs": [],
   "source": [
    "import json\n",
    "from src.data_processing import print_progress, scores_as_list, load_data, load_cmu, load_task3_data\n",
    "from src.pronunciations import phonetic_distance\n",
    "import numpy as np\n",
    "from gensim import models\n",
    "from src.pun_algorithms import is_Tom_Swifty, word_sentence_similarity\n",
    "\n",
    "\n",
    "from sklearn.model_selection import KFold\n",
    "from sklearn.model_selection import cross_val_score\n",
    "from sklearn.svm import SVC\n",
    "from sklearn.metrics import classification_report, precision_recall_fscore_support\n",
    "from sklearn.linear_model import LogisticRegression\n",
    "from sklearn.utils import class_weight\n",
    "from sklearn.ensemble import RandomForestClassifier\n",
    "from pprint import pprint\n",
    "\n",
    "from nltk.stem.porter import PorterStemmer\n",
    "from nltk.stem import WordNetLemmatizer"
   ]
  },
  {
   "cell_type": "code",
   "execution_count": 7,
   "metadata": {},
   "outputs": [],
   "source": [
    "task1, task2, task3, min_pairs, strings, pun_strings = load_data()"
   ]
  },
  {
   "cell_type": "code",
   "execution_count": 8,
   "metadata": {},
   "outputs": [
    {
     "name": "stdout",
     "output_type": "stream",
     "text": [
      " |████████████████████████████████████████████████████████████████████████████████████████████████████| 99.9% "
     ]
    }
   ],
   "source": [
    "sub_rankings = load_task3_data('phonetic_filter_no_pos', task1, task2, task3)"
   ]
  },
  {
   "cell_type": "code",
   "execution_count": 9,
   "metadata": {},
   "outputs": [],
   "source": [
    "import itertools\n",
    "def measures(sub_rankings):\n",
    "\n",
    "    guesses, tp, fp = 0, 0, 0\n",
    "    mrrank = 0\n",
    "    mrank = 0\n",
    "    missed = 0\n",
    "\n",
    "    for i, sub in enumerate(sub_rankings):\n",
    "        \n",
    "        if not sub:\n",
    "            continue\n",
    "\n",
    "        targets = task3[i]['sense_tags'][0]\n",
    "        translation = None\n",
    "        key_found = False\n",
    "\n",
    "        for t in targets:\n",
    "            if t in sub:\n",
    "                translation = sub[t]\n",
    "                break\n",
    "        \n",
    "        if not translation:\n",
    "            \n",
    "            max_score, max_k = 0, None\n",
    "            max_k = (max ([(phonetic_distance(k, t), k) \n",
    "                           for k, t in itertools.product(sub.keys(), targets)]))[1]\n",
    "            if max_k:\n",
    "                translation = sub[max_k]\n",
    "            else:\n",
    "                continue\n",
    "            \n",
    "        for r, tr in enumerate(translation):\n",
    "            if [w for w in task3[i]['sense_tags'][1] if w in tr['derivations']]:\n",
    "                mrank += (r+1)\n",
    "                mrrank += 1/(r+1)\n",
    "            \n",
    "        guesses += int(bool(translation))  \n",
    "        correct = [w for w in task3[i]['sense_tags'][1] if w in translation[0]['derivations']]\n",
    "        tp += int(bool(correct))\n",
    "        fp += int(not bool(correct))\n",
    "    \n",
    "    return {'coverage': guesses/len(task3),\n",
    "            'precision': tp/guesses,\n",
    "            'recall': tp/len(task3),\n",
    "            'f1-score': (2 * (tp/guesses) * (tp/len(task3))) / ((tp/guesses) + (tp/len(task3))),\n",
    "            'mrrank': mrrank / len(task3)}"
   ]
  },
  {
   "cell_type": "code",
   "execution_count": 10,
   "metadata": {},
   "outputs": [],
   "source": [
    "def row_to_string(phonetic, pos, d):\n",
    "    return (         str(phonetic)\n",
    "            + \", \" + str(pos)\n",
    "            + \", \" + \"{0:.3f}\".format(d['coverage'])\n",
    "            + \", \" + \"{0:.3f}\".format(d['precision'])\n",
    "            + \", \" + \"{0:.3f}\".format(d['recall'])\n",
    "            + \", \" + \"{0:.3f}\".format(d['f1-score'])\n",
    "            + \", \" + \"{0:.3f}\\n\".format(d['mrrank']))"
   ]
  },
  {
   "cell_type": "code",
   "execution_count": 5,
   "metadata": {},
   "outputs": [
    {
     "ename": "NameError",
     "evalue": "name 'load_task3_data' is not defined",
     "output_type": "error",
     "traceback": [
      "\u001b[0;31m---------------------------------------------------------------------------\u001b[0m",
      "\u001b[0;31mNameError\u001b[0m                                 Traceback (most recent call last)",
      "\u001b[0;32m<ipython-input-5-cd57988895a6>\u001b[0m in \u001b[0;36m<module>\u001b[0;34m\u001b[0m\n\u001b[1;32m      7\u001b[0m     \u001b[0mf\u001b[0m\u001b[0;34m.\u001b[0m\u001b[0mwrite\u001b[0m\u001b[0;34m(\u001b[0m\u001b[0;34m\"Phonetic Filter, Use Position, Coverage, Precision, Recall, F1, Mean Reciprocal Rank\\n\"\u001b[0m\u001b[0;34m)\u001b[0m\u001b[0;34m\u001b[0m\u001b[0m\n\u001b[1;32m      8\u001b[0m     \u001b[0;32mfor\u001b[0m \u001b[0mloc\u001b[0m\u001b[0;34m,\u001b[0m \u001b[0mphon\u001b[0m\u001b[0;34m,\u001b[0m \u001b[0mfilt\u001b[0m \u001b[0;32min\u001b[0m \u001b[0mlocations\u001b[0m\u001b[0;34m:\u001b[0m\u001b[0;34m\u001b[0m\u001b[0m\n\u001b[0;32m----> 9\u001b[0;31m         \u001b[0msubs\u001b[0m \u001b[0;34m=\u001b[0m \u001b[0mload_task3_data\u001b[0m\u001b[0;34m(\u001b[0m\u001b[0mloc\u001b[0m\u001b[0;34m,\u001b[0m \u001b[0mtask1\u001b[0m\u001b[0;34m,\u001b[0m \u001b[0mtask2\u001b[0m\u001b[0;34m,\u001b[0m \u001b[0mtask3\u001b[0m\u001b[0;34m)\u001b[0m\u001b[0;34m\u001b[0m\u001b[0m\n\u001b[0m\u001b[1;32m     10\u001b[0m         \u001b[0mmeasure\u001b[0m \u001b[0;34m=\u001b[0m \u001b[0mmeasures\u001b[0m\u001b[0;34m(\u001b[0m\u001b[0msubs\u001b[0m\u001b[0;34m)\u001b[0m\u001b[0;34m\u001b[0m\u001b[0m\n\u001b[1;32m     11\u001b[0m         \u001b[0mf\u001b[0m\u001b[0;34m.\u001b[0m\u001b[0mwrite\u001b[0m\u001b[0;34m(\u001b[0m\u001b[0mrow_to_string\u001b[0m\u001b[0;34m(\u001b[0m\u001b[0mphon\u001b[0m\u001b[0;34m,\u001b[0m \u001b[0mfilt\u001b[0m\u001b[0;34m,\u001b[0m \u001b[0mmeasure\u001b[0m\u001b[0;34m)\u001b[0m\u001b[0;34m)\u001b[0m\u001b[0;34m\u001b[0m\u001b[0m\n",
      "\u001b[0;31mNameError\u001b[0m: name 'load_task3_data' is not defined"
     ]
    }
   ],
   "source": [
    "locations = ([('phonetic_filter_no_pos', True, False),\n",
    "              ('phonetic_filter_with_pos', True, True),\n",
    "              ('all_trigram_no_pos', False, False),\n",
    "              ('all_trigram_with_pos', False, True)])\n",
    "\n",
    "with open(\"results/tables/translation.json\", 'w') as f:\n",
    "    f.write(\"Phonetic Filter, Use Position, Coverage, Precision, Recall, F1, Mean Reciprocal Rank\\n\")\n",
    "    for loc, phon, filt in locations:\n",
    "        subs = load_task3_data(loc, task1, task2, task3)\n",
    "        measure = measures(subs)\n",
    "        f.write(row_to_string(phon, filt, measure))"
   ]
  },
  {
   "cell_type": "code",
   "execution_count": 39,
   "metadata": {},
   "outputs": [
    {
     "data": {
      "text/plain": [
       "1271"
      ]
     },
     "execution_count": 39,
     "metadata": {},
     "output_type": "execute_result"
    }
   ],
   "source": [
    "len([t for t in task1 if t['pun']])"
   ]
  },
  {
   "cell_type": "code",
   "execution_count": 26,
   "metadata": {},
   "outputs": [
    {
     "data": {
      "text/plain": [
       "{'coverage': 0.8916211293260473,\n",
       " 'f1-score': 0.4631680308136736,\n",
       " 'mrrank': 0.6317187857357554,\n",
       " 'precision': 0.491317671092952,\n",
       " 'recall': 0.43806921675774135}"
      ]
     },
     "execution_count": 26,
     "metadata": {},
     "output_type": "execute_result"
    }
   ],
   "source": [
    "measure"
   ]
  },
  {
   "cell_type": "code",
   "execution_count": 27,
   "metadata": {},
   "outputs": [
    {
     "data": {
      "text/plain": [
       "'a, b, 0.892, 0.491, 0.438, 0.463, 0.632\\n'"
      ]
     },
     "execution_count": 27,
     "metadata": {},
     "output_type": "execute_result"
    }
   ],
   "source": [
    "row_to_string(\"a\", \"b\", measure)"
   ]
  },
  {
   "cell_type": "code",
   "execution_count": 29,
   "metadata": {},
   "outputs": [],
   "source": [
    "measure = measures(subs)"
   ]
  },
  {
   "cell_type": "code",
   "execution_count": 30,
   "metadata": {},
   "outputs": [
    {
     "data": {
      "text/plain": [
       "{'coverage': 0.8916211293260473,\n",
       " 'f1-score': 0.4631680308136736,\n",
       " 'mrrank': 0.6317168144223086,\n",
       " 'precision': 0.491317671092952,\n",
       " 'recall': 0.43806921675774135}"
      ]
     },
     "execution_count": 30,
     "metadata": {},
     "output_type": "execute_result"
    }
   ],
   "source": [
    "measure"
   ]
  },
  {
   "cell_type": "code",
   "execution_count": 31,
   "metadata": {},
   "outputs": [
    {
     "data": {
      "text/plain": [
       "'a, b, 0.892, 0.491, 0.438, 0.463, 0.632\\n'"
      ]
     },
     "execution_count": 31,
     "metadata": {},
     "output_type": "execute_result"
    }
   ],
   "source": [
    "row_to_string(\"a\", \"b\", measure)"
   ]
  },
  {
   "cell_type": "code",
   "execution_count": null,
   "metadata": {},
   "outputs": [],
   "source": []
  }
 ],
 "metadata": {
  "kernelspec": {
   "display_name": "Python 3",
   "language": "python",
   "name": "python3"
  },
  "language_info": {
   "codemirror_mode": {
    "name": "ipython",
    "version": 3
   },
   "file_extension": ".py",
   "mimetype": "text/x-python",
   "name": "python",
   "nbconvert_exporter": "python",
   "pygments_lexer": "ipython3",
   "version": "3.5.2"
  }
 },
 "nbformat": 4,
 "nbformat_minor": 2
}
