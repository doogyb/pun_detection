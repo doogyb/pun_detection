{
 "cells": [
  {
   "cell_type": "code",
   "execution_count": 1,
   "metadata": {},
   "outputs": [],
   "source": [
    "import json\n",
    "from src.data_processing import print_progress, scores_as_matrix, load_data\n",
    "import numpy as np\n",
    "from gensim import models\n",
    "from src.pun_algorithms import is_Tom_Swifty\n",
    "\n",
    "\n",
    "from sklearn.model_selection import KFold\n",
    "from sklearn.model_selection import cross_val_score\n",
    "from sklearn.svm import SVC\n",
    "from sklearn.metrics import classification_report, precision_recall_fscore_support\n",
    "from sklearn.linear_model import LogisticRegression\n",
    "from sklearn.utils import class_weight\n",
    "from sklearn.ensemble import RandomForestClassifier\n",
    "from pprint import pprint\n",
    "\n",
    "\n",
    "import warnings\n",
    "warnings.filterwarnings('ignore')"
   ]
  },
  {
   "cell_type": "code",
   "execution_count": 9,
   "metadata": {},
   "outputs": [],
   "source": [
    "locations = (['phonetic_filter_no_pos',\n",
    "              'phonetic_filter_with_pos',\n",
    "              'all_trigram_no_pos',\n",
    "              'all_trigram_with_pos'])"
   ]
  },
  {
   "cell_type": "code",
   "execution_count": 21,
   "metadata": {},
   "outputs": [],
   "source": [
    "def row_to_string(phonetic, pos, d):\n",
    "    return (str(phonetic)\n",
    "            + \", \" + str(pos)\n",
    "            + \", \" + \"{0:.3f}\".format(d['accuracy'])\n",
    "            + \", \" + \"{0:.3f}\".format(d['precision'])\n",
    "            + \", \" + \"{0:.3f}\".format(d['recall'])\n",
    "            + \", \" + \"{0:.3f}\".format(d['f1-score']) + \"\\n\")"
   ]
  },
  {
   "cell_type": "code",
   "execution_count": 9,
   "metadata": {},
   "outputs": [],
   "source": [
    "pfnp = {'accuracy': 0.6900466292134697,\n",
    " 'f1-score': 0.8138793462144476,\n",
    " 'precision': 0.8838303151518738,\n",
    " 'recall': 0.7641870026462647,\n",
    " 'support': 14.280898876404494}"
   ]
  },
  {
   "cell_type": "code",
   "execution_count": 10,
   "metadata": {},
   "outputs": [],
   "source": [
    "pfwp = {'accuracy': 0.6946623595505536,\n",
    " 'f1-score': 0.8172007077683997,\n",
    " 'precision': 0.8834805511564049,\n",
    " 'recall': 0.7700926671663321,\n",
    " 'support': 14.280898876404494}"
   ]
  },
  {
   "cell_type": "code",
   "execution_count": 11,
   "metadata": {},
   "outputs": [],
   "source": [
    "atnp = {'accuracy': 0.7498140449438465,\n",
    " 'f1-score': 0.8501789832511638,\n",
    " 'precision': 0.8259908963924304,\n",
    " 'recall': 0.8852827699854061,\n",
    " 'support': 14.280898876404494}"
   ]
  },
  {
   "cell_type": "code",
   "execution_count": 12,
   "metadata": {},
   "outputs": [],
   "source": [
    "atwp = {'accuracy': 0.756744382022505,\n",
    " 'f1-score': 0.8538816249739479,\n",
    " 'precision': 0.8249398393824947,\n",
    " 'recall': 0.8941984893030724,\n",
    " 'support': 14.280898876404494}"
   ]
  },
  {
   "cell_type": "code",
   "execution_count": 23,
   "metadata": {},
   "outputs": [],
   "source": [
    "with open(\"results/tables/classification.json\", 'w') as f:\n",
    "    f.write(\"Phonetic Filter, Use Position, Accuracy, Precision, Recall, F1\\n\")\n",
    "    f.write(row_to_string(True, False, pfnp))\n",
    "    f.write(row_to_string(True, True, pfwp))\n",
    "    f.write(row_to_string(False, False, atnp))\n",
    "    f.write(row_to_string(False, True, atwp))"
   ]
  },
  {
   "cell_type": "code",
   "execution_count": 18,
   "metadata": {},
   "outputs": [
    {
     "data": {
      "text/plain": [
       "0.756744382022505"
      ]
     },
     "execution_count": 18,
     "metadata": {},
     "output_type": "execute_result"
    }
   ],
   "source": [
    "atwp['accuracy']"
   ]
  },
  {
   "cell_type": "code",
   "execution_count": null,
   "metadata": {},
   "outputs": [],
   "source": []
  }
 ],
 "metadata": {
  "kernelspec": {
   "display_name": "Python 3",
   "language": "python",
   "name": "python3"
  },
  "language_info": {
   "codemirror_mode": {
    "name": "ipython",
    "version": 3
   },
   "file_extension": ".py",
   "mimetype": "text/x-python",
   "name": "python",
   "nbconvert_exporter": "python",
   "pygments_lexer": "ipython3",
   "version": "3.5.2"
  }
 },
 "nbformat": 4,
 "nbformat_minor": 2
}
