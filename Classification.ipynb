{
 "cells": [
  {
   "cell_type": "code",
   "execution_count": 56,
   "metadata": {},
   "outputs": [],
   "source": [
    "import json\n",
    "from src.data_processing import print_progress, scores_as_matrix, load_data\n",
    "import numpy as np\n",
    "from gensim import models\n",
    "from src.pun_algorithms import is_Tom_Swifty\n",
    "\n",
    "\n",
    "from sklearn.model_selection import KFold, StratifiedKFold\n",
    "from sklearn.model_selection import cross_val_score\n",
    "from sklearn.svm import SVC\n",
    "from sklearn.metrics import classification_report, precision_recall_fscore_support\n",
    "from sklearn.linear_model import LogisticRegression\n",
    "from sklearn.utils import class_weight\n",
    "from sklearn.ensemble import RandomForestClassifier\n",
    "from pprint import pprint\n",
    "\n",
    "\n",
    "import warnings\n",
    "warnings.filterwarnings('ignore')"
   ]
  },
  {
   "cell_type": "code",
   "execution_count": 52,
   "metadata": {},
   "outputs": [],
   "source": [
    "#model = models.KeyedVectors.load_word2vec_format(\"/home/doogy/Data/GoogleNews-vectors-negative300.bin.gz\", binary=True)"
   ]
  },
  {
   "cell_type": "markdown",
   "metadata": {},
   "source": [
    "Load the vectors, dump as binary"
   ]
  },
  {
   "cell_type": "code",
   "execution_count": 53,
   "metadata": {},
   "outputs": [],
   "source": [
    "task1, task2, task3, min_pairs, strings, pun_strings = load_data()"
   ]
  },
  {
   "cell_type": "code",
   "execution_count": 54,
   "metadata": {},
   "outputs": [],
   "source": [
    "no_tom_indices = [i for i, context in enumerate(task1) if 'Tom' not in context['words']]"
   ]
  },
  {
   "cell_type": "code",
   "execution_count": 55,
   "metadata": {},
   "outputs": [],
   "source": [
    "y = np.array([int(context['pun']) for context in task1])\n",
    "\n",
    "with open(\"results/tom_swifties.json\") as f:\n",
    "    toms = json.load(f)\n",
    "    y_toms = [0] * len(task1)\n",
    "    for i, t1_index in enumerate([c['t1_index'] for c in task2]):\n",
    "        y_toms[t1_index] = int(bool(toms[i]))\n",
    "    y_toms = np.array(y_toms)"
   ]
  },
  {
   "cell_type": "code",
   "execution_count": 62,
   "metadata": {},
   "outputs": [],
   "source": [
    "def test_dataset(X_in, y_in, clf=None, repeats=1000, ytoms=None):\n",
    "\n",
    "    n_splits=89\n",
    "\n",
    "    columns = 5\n",
    "    weight = 1\n",
    "    report = {'f1-score': 0, 'precision': 0, 'recall': 0, 'support': 0, 'accuracy': 0}\n",
    "    \n",
    "    for i in range(repeats):\n",
    "        print_progress(i, repeats)\n",
    "        \n",
    "        kf = KFold(n_splits=n_splits, shuffle=True)\n",
    "        kf.get_n_splits(X_in)\n",
    "        \n",
    "        for train_index, test_index in kf.split(X_in):\n",
    "\n",
    "            X_train, X_test = X_in[train_index, :columns], X_in[test_index, :columns]\n",
    "            y_train, y_test = y_in[train_index], y_in[test_index]\n",
    "            class_weights = class_weight.compute_class_weight('balanced',\n",
    "                                                         np.unique(y_train),\n",
    "                                                         y_train)\n",
    "\n",
    "            class_weight_dict = dict(enumerate(class_weights))\n",
    "#             class_weight_dict = None\n",
    "            if clf is None:\n",
    "                clf = LogisticRegression(class_weight=class_weight_dict)\n",
    "                clf.fit(X_train, y_train)\n",
    "                predictions = clf.predict(X_test)\n",
    "\n",
    "            elif isinstance(clf, list):\n",
    "                \n",
    "                # Ensemble time!\n",
    "                predictions = np.zeros(y_test.shape)\n",
    "\n",
    "                for c in clf:\n",
    "                    c.fit(X_train, y_train)\n",
    "                    predictions += c.predict(X_test)\n",
    "\n",
    "                predictions = np.around(predictions/len(clf))\n",
    "                predictions = predictions.astype(int)\n",
    "\n",
    "            else:\n",
    "                \n",
    "                clf.fit(X_train, y_train)\n",
    "                predictions = clf.predict(X_test)\n",
    "                \n",
    "            if ytoms is not None:\n",
    "\n",
    "                predictions[ytoms[test_index] == 1] = 1\n",
    "                \n",
    "            predictions = predictions.astype(int)\n",
    "                    \n",
    "            for k, v in classification_report(y_test, predictions, output_dict=True)['1'].items():\n",
    "                report[k] += v\n",
    "            report['accuracy'] += (sum(clf.predict(X_test) == y_test) / len(X_test))\n",
    "\n",
    "\n",
    "    for k in report:\n",
    "        report[k] /= n_splits * repeats\n",
    "\n",
    "            \n",
    "#     print()\n",
    "#     pprint(report)\n",
    "    return report\n",
    "    "
   ]
  },
  {
   "cell_type": "code",
   "execution_count": 58,
   "metadata": {},
   "outputs": [],
   "source": [
    "locations = (['phonetic_filter_no_pos',\n",
    "              'phonetic_filter_with_pos',\n",
    "              'all_trigram_no_pos',\n",
    "              'all_trigram_with_pos'])"
   ]
  },
  {
   "cell_type": "code",
   "execution_count": 17,
   "metadata": {},
   "outputs": [],
   "source": [
    "def row_to_string(phonetic, pos, d):\n",
    "    return (str(phonetic)\n",
    "            + str(pos)\n",
    "            + \", \" + str(d['accuracy'])\n",
    "            + \", \" + str(d['precision'])\n",
    "            + \", \" + str(d['recall'])\n",
    "            + \", \" + str(d['f1-score']) + \"\\n\")"
   ]
  },
  {
   "cell_type": "code",
   "execution_count": null,
   "metadata": {},
   "outputs": [],
   "source": [
    "with open(\"results/tables/es/es/classification.json\") as f:\n",
    "    f.write(\"Phonetic Filter, Use Position, Accuracy, Precision, Recall, F1\\n\")\n",
    "    f.write(True, False, pfnp)\n",
    "    f.write(True, True, pfwp)\n",
    "    f.write(False, False, atnp)\n",
    "    f.write(False, True, atwp)"
   ]
  },
  {
   "cell_type": "code",
   "execution_count": 64,
   "metadata": {},
   "outputs": [
    {
     "name": "stdout",
     "output_type": "stream",
     "text": [
      " |███████████████████████████████████████████████████████████████████████████████████████████████████-| 99.0% "
     ]
    },
    {
     "data": {
      "text/plain": [
       "{'accuracy': 0.6898202247190961,\n",
       " 'f1-score': 0.8134784060825854,\n",
       " 'precision': 0.883642237366052,\n",
       " 'recall': 0.7634814073641552,\n",
       " 'support': 14.280898876404494}"
      ]
     },
     "execution_count": 64,
     "metadata": {},
     "output_type": "execute_result"
    }
   ],
   "source": [
    "X = scores_as_matrix(locations[0])\n",
    "test_dataset(X, y, ytoms=y_toms, repeats=100)"
   ]
  },
  {
   "cell_type": "code",
   "execution_count": 61,
   "metadata": {},
   "outputs": [
    {
     "name": "stdout",
     "output_type": "stream",
     "text": [
      " |███████████████████████████████████████████████████████████████████████████████████████████████████-| 99.0% "
     ]
    },
    {
     "data": {
      "text/plain": [
       "{'accuracy': 0.689890034073946,\n",
       " 'f1-score': 0.8161721463911402,\n",
       " 'precision': 0.887943031577895,\n",
       " 'recall': 0.7638491171749874,\n",
       " 'support': 14.280898876404494}"
      ]
     },
     "execution_count": 61,
     "metadata": {},
     "output_type": "execute_result"
    }
   ],
   "source": [
    "X = scores_as_matrix(locations[0])\n",
    "test_dataset(X, y, ytoms=y_toms, repeats=100)"
   ]
  },
  {
   "cell_type": "code",
   "execution_count": 15,
   "metadata": {
    "scrolled": true
   },
   "outputs": [
    {
     "name": "stdout",
     "output_type": "stream",
     "text": [
      " |████████████████████████████████████████████████████████████████████████████████████████████████████| 99.9% "
     ]
    },
    {
     "data": {
      "text/plain": [
       "{'accuracy': 0.7498140449438465,\n",
       " 'f1-score': 0.8501789832511638,\n",
       " 'precision': 0.8259908963924304,\n",
       " 'recall': 0.8852827699854061,\n",
       " 'support': 14.280898876404494}"
      ]
     },
     "execution_count": 15,
     "metadata": {},
     "output_type": "execute_result"
    }
   ],
   "source": [
    "X = scores_as_matrix(locations[2])\n",
    "test_dataset(X, y, ytoms=y_toms, repeats=1000)"
   ]
  },
  {
   "cell_type": "code",
   "execution_count": 16,
   "metadata": {},
   "outputs": [
    {
     "name": "stdout",
     "output_type": "stream",
     "text": [
      " |████████████████████████████████████████████████████████████████████████████████████████████████████| 99.9% "
     ]
    },
    {
     "data": {
      "text/plain": [
       "{'accuracy': 0.756744382022505,\n",
       " 'f1-score': 0.8538816249739479,\n",
       " 'precision': 0.8249398393824947,\n",
       " 'recall': 0.8941984893030724,\n",
       " 'support': 14.280898876404494}"
      ]
     },
     "execution_count": 16,
     "metadata": {},
     "output_type": "execute_result"
    }
   ],
   "source": [
    "X = scores_as_matrix(locations[3])\n",
    "test_dataset(X, y, ytoms=y_toms, repeats=1000)"
   ]
  },
  {
   "cell_type": "code",
   "execution_count": null,
   "metadata": {},
   "outputs": [
    {
     "name": "stdout",
     "output_type": "stream",
     "text": [
      " |████████████████████████████████████████████████████████████████████████████████████████████████████| 99.9% {'accuracy': 0.6895370786516831,\n",
      " 'f1-score': 0.8133406964256036,\n",
      " 'precision': 0.8836424563622624,\n",
      " 'recall': 0.7633681920218285,\n",
      " 'support': 14.280898876404494}\n",
      " |██████████████████████████████████████████████████████████████████████████████████████████████------| 94.1% "
     ]
    }
   ],
   "source": [
    "results = []\n",
    "for loc in locations:\n",
    "    X = scores_as_matrix(loc)\n",
    "    results.append(test_dataset(X, y, ytoms=y_toms, repeats=1000))"
   ]
  },
  {
   "cell_type": "markdown",
   "metadata": {},
   "source": [
    "# Tom Swifty pass"
   ]
  },
  {
   "cell_type": "code",
   "execution_count": 16,
   "metadata": {},
   "outputs": [
    {
     "data": {
      "text/plain": [
       "211"
      ]
     },
     "execution_count": 16,
     "metadata": {},
     "output_type": "execute_result"
    }
   ],
   "source": [
    "sum(y_toms)"
   ]
  },
  {
   "cell_type": "code",
   "execution_count": 16,
   "metadata": {},
   "outputs": [],
   "source": [
    "tom_swifty_y = np.array([int(i) for i in run])"
   ]
  },
  {
   "cell_type": "code",
   "execution_count": 20,
   "metadata": {},
   "outputs": [
    {
     "name": "stdout",
     "output_type": "stream",
     "text": [
      " |████████████████████████████████████████████████████████████████████████████████████████████████████| 99.9% "
     ]
    }
   ],
   "source": [
    "X = scores_as_matrix('all_trigram_with_pos')"
   ]
  },
  {
   "cell_type": "code",
   "execution_count": 77,
   "metadata": {},
   "outputs": [
    {
     "name": "stdout",
     "output_type": "stream",
     "text": [
      " |██████████████████████████████████████████████████████████████████████████████████████████----------| 90.0% \n",
      "{'accuracy': 0.7489325842696621,\n",
      " 'f1-score': 0.8433119098531224,\n",
      " 'precision': 0.8193358340628938,\n",
      " 'recall': 0.8772421092047492,\n",
      " 'support': 14.280898876404494}\n"
     ]
    }
   ],
   "source": [
    "test_dataset(X, y, clf=SVC(), ytoms=tom_swifty_y, repeats=10)"
   ]
  },
  {
   "cell_type": "code",
   "execution_count": 61,
   "metadata": {},
   "outputs": [
    {
     "name": "stdout",
     "output_type": "stream",
     "text": [
      " |██████████████████████████████████████████████████████████████████████████████████████████----------| 90.0% \n",
      "{'accuracy': 0.7482448410075643,\n",
      " 'f1-score': 0.8167785479389352,\n",
      " 'precision': 0.7867883918974458,\n",
      " 'recall': 0.8633916925770861,\n",
      " 'support': 11.910112359550562}\n"
     ]
    }
   ],
   "source": [
    "test_dataset(X[tom_swifty_y==0], y[tom_swifty_y==0], repeats=10)"
   ]
  },
  {
   "cell_type": "code",
   "execution_count": 60,
   "metadata": {},
   "outputs": [
    {
     "data": {
      "text/plain": [
       "1566"
      ]
     },
     "execution_count": 60,
     "metadata": {},
     "output_type": "execute_result"
    }
   ],
   "source": [
    "len(X[tom_swifty_y==0])"
   ]
  },
  {
   "cell_type": "code",
   "execution_count": 68,
   "metadata": {},
   "outputs": [
    {
     "data": {
      "text/plain": [
       "array([ True,  True, False, ..., False, False,  True])"
      ]
     },
     "execution_count": 68,
     "metadata": {},
     "output_type": "execute_result"
    }
   ],
   "source": [
    "tom_swifty_y==1"
   ]
  },
  {
   "cell_type": "code",
   "execution_count": 70,
   "metadata": {},
   "outputs": [],
   "source": [
    "tom_acc = sum(tom_swifty_y[tom_swifty_y==1] == y[tom_swifty_y==1]) / sum(tom_swifty_y==1)"
   ]
  },
  {
   "cell_type": "code",
   "execution_count": 72,
   "metadata": {},
   "outputs": [
    {
     "data": {
      "text/plain": [
       "0.7768266410212616"
      ]
     },
     "execution_count": 72,
     "metadata": {},
     "output_type": "execute_result"
    }
   ],
   "source": [
    "(0.7482448410075643 * (len(X[tom_swifty_y==0]) / len(X))) + (tom_acc * (len(X[tom_swifty_y==1]) / len(X)))"
   ]
  },
  {
   "cell_type": "code",
   "execution_count": 71,
   "metadata": {},
   "outputs": [
    {
     "data": {
      "text/plain": [
       "1780"
      ]
     },
     "execution_count": 71,
     "metadata": {},
     "output_type": "execute_result"
    }
   ],
   "source": [
    "len(X)"
   ]
  },
  {
   "cell_type": "code",
   "execution_count": 48,
   "metadata": {},
   "outputs": [
    {
     "data": {
      "text/plain": [
       "array([False,  True,  True, False, False, False, False, False, False,\n",
       "       False, False, False, False, False,  True,  True, False, False,\n",
       "       False, False, False, False, False, False, False])"
      ]
     },
     "execution_count": 48,
     "metadata": {},
     "output_type": "execute_result"
    }
   ],
   "source": [
    "X_test = np.array(list(range(20, 45)))\n",
    "tom_swifty_y[X_test] == 1"
   ]
  },
  {
   "cell_type": "code",
   "execution_count": 47,
   "metadata": {},
   "outputs": [
    {
     "data": {
      "text/plain": [
       "array([False, False, False, False, False, False, False, False, False,\n",
       "       False, False, False, False, False, False, False, False, False,\n",
       "       False, False, False, False, False, False, False])"
      ]
     },
     "execution_count": 47,
     "metadata": {},
     "output_type": "execute_result"
    }
   ],
   "source": [
    "X_test==1"
   ]
  },
  {
   "cell_type": "code",
   "execution_count": 15,
   "metadata": {
    "collapsed": true
   },
   "outputs": [],
   "source": [
    "%matplotlib inline"
   ]
  },
  {
   "cell_type": "code",
   "execution_count": 16,
   "metadata": {},
   "outputs": [],
   "source": [
    "import numpy as np\n",
    "import pandas as pd\n",
    "import seaborn as sns\n",
    "import matplotlib.pyplot as plt\n",
    "from scipy import stats"
   ]
  },
  {
   "cell_type": "code",
   "execution_count": 17,
   "metadata": {},
   "outputs": [
    {
     "data": {
      "text/plain": [
       "<matplotlib.collections.PathCollection at 0x7fbed282d6a0>"
      ]
     },
     "execution_count": 17,
     "metadata": {},
     "output_type": "execute_result"
    },
    {
     "data": {
      "image/png": "[encoded data removed]",
      "text/plain": [
       "<Figure size 432x288 with 1 Axes>"
      ]
     },
     "metadata": {
      "needs_background": "light"
     },
     "output_type": "display_data"
    }
   ],
   "source": [
    "plt.scatter(dataset[:, 0], dataset[:, 1], c=y, cmap=plt.cm.Paired, edgecolors='k')"
   ]
  }
 ],
 "metadata": {
  "kernelspec": {
   "display_name": "Python 3",
   "language": "python",
   "name": "python3"
  },
  "language_info": {
   "codemirror_mode": {
    "name": "ipython",
    "version": 3
   },
   "file_extension": ".py",
   "mimetype": "text/x-python",
   "name": "python",
   "nbconvert_exporter": "python",
   "pygments_lexer": "ipython3",
   "version": "3.5.2"
  }
 },
 "nbformat": 4,
 "nbformat_minor": 2
}
