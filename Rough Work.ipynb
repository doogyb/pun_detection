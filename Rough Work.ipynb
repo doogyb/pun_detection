{
 "cells": [
  {
   "cell_type": "code",
   "execution_count": 1,
   "metadata": {},
   "outputs": [],
   "source": [
    "%load_ext autoreload\n",
    "%autoreload 2\n"
   ]
  },
  {
   "cell_type": "code",
   "execution_count": 2,
   "metadata": {},
   "outputs": [],
   "source": [
    "from src.data_processing import load_data\n",
    "import itertools\n",
    "import string\n",
    "from src.ngrams import *\n",
    "from src.string_similarity import levenshtein\n",
    "import operator\n",
    "from src.data_processing import print_progress\n",
    "from nltk import word_tokenize, pos_tag\n",
    "from src.data_processing import load_cmu\n",
    "from nltk.stem import PorterStemmer"
   ]
  },
  {
   "cell_type": "code",
   "execution_count": 17,
   "metadata": {},
   "outputs": [],
   "source": [
    "import codecs\n",
    "import json\n",
    "import itertools\n",
    "import numpy\n",
    "from nltk.stem.porter import PorterStemmer\n",
    "from nltk.corpus import wordnet as wn\n",
    "from nltk import word_tokenize\n",
    "from numpy.ma import dot\n",
    "from collections import defaultdict\n",
    "import pygtrie as trie\n",
    "from src.pronunciations import phonetic_translation"
   ]
  },
  {
   "cell_type": "code",
   "execution_count": 4,
   "metadata": {},
   "outputs": [],
   "source": [
    "cmu = load_cmu()\n",
    "data = load_data()"
   ]
  },
  {
   "cell_type": "code",
   "execution_count": 5,
   "metadata": {},
   "outputs": [
    {
     "data": {
      "text/plain": [
       "202"
      ]
     },
     "execution_count": 5,
     "metadata": {},
     "output_type": "execute_result"
    }
   ],
   "source": [
    "from src.ngrams import ngram_frequency\n",
    "ngram_frequency(\"clearing out the cache\".split())"
   ]
  },
  {
   "cell_type": "code",
   "execution_count": 64,
   "metadata": {},
   "outputs": [
    {
     "name": "stdout",
     "output_type": "stream",
     "text": [
      "' ' I ' m halfway up a mountain , ' ' Tom alleged .\n",
      "I ' d like to be a Chinese laborer , said Tom coolly .\n",
      "It ' s between my sole and my heel , said Tom archly .\n",
      "I deny everything , said Tom knowingly .\n",
      "' ' I ' ve stuck a pin through my nose , ' ' said Tom punctually .\n",
      "Let ' s all play an A , a C sharp , and an E , cried Tom ' s band with one accord .\n",
      "The doctors had to remove a bone from my arm , said Tom humorlessly .\n",
      "I ' ve been to a film festival in the South of France , said Tom cannily .\n",
      "' ' Why is this telephone flex always tangled ? ' ' asked Tom coyly .\n",
      "' ' I ' ve been listening to the Brandenburg Concertos , ' ' Tom barked .\n",
      "' ' I can see through the window , ' ' said Tom stiltedly .\n",
      "' ' This food tastes of plutonium , ' ' said Tom glowingly .\n",
      "' ' Would you like some soda ? ' ' asked Tom caustically .\n",
      "I ' m a lion hunter , said Tom , pridefully\n",
      "I ' m from a Humberside port , said Tom ghoulishly .\n",
      "I love cats , Tom mused .\n",
      "' ' Boy , that ' s a bright star , ' ' said Tom seriously .\n",
      "' ' Now I can do some painting , ' ' said Tom easily .\n",
      "I ' ll never give up my hounds ! Tom said doggedly .\n",
      "' ' We have no oranges , ' ' Tom said fruitlessly .\n",
      "' ' I have to keep this fire alight , ' ' Tom bellowed .\n",
      "Nice looking glass ! said Tom reflectively .\n",
      "There ' s nothing to stop me putting things in tins , said Tom cannily .\n",
      "I hate sweet potatoes , Tom yammered .\n",
      "' ' If I let go of the ceiling it will collapse , ' ' Tom upheld .\n",
      "' ' For what we are about to receive , may the Lord make us truly thankful , ' ' said Tom gracefully .\n",
      "' ' I swallowed some of the glass from that broken window , ' ' Tom said painfully .\n",
      "' ' I chop down trees for a living , ' ' said Tom lumberingly .\n",
      "' ' The sun is rising , ' ' Tom mourned .\n",
      "' ' I know what herb would taste nice with this , ' ' said Tom sagely .\n",
      "' ' Are you homosexual ? ' ' Tom queried gaily .\n",
      "This is what I have learned off by heart Tom wrote .\n",
      "' ' 3 . 14159265 , ' ' Tom said piously .\n",
      "' ' I prefer trout to salmon , ' ' Tom said officiously .\n",
      "I ' ve been listening to the Brandenberg Concertos , Tom barked .\n",
      "I haven ' t developed my photographs yet , said Tom negatively .\n",
      "' ' This is where I keep my arrows , ' ' said Tom quiveringly .\n",
      "' ' Congratulations ; you graduated , ' ' said Tom diplomatically .\n",
      "' ' Don ' t you know my name ? ' ' asked Tom swiftly .\n",
      "' ' Boy , I wish the elevator were working , ' ' said Tom , staring up to the top .\n",
      "I fought with Geronimo , said Tom bravely .\n",
      "' ' I think I ' ve broken my leg ' ' , reported Tom lamely .\n",
      "' ' I have been reading Voltaire , ' ' Tom admitted candidly .\n",
      "I ' ll take the girl to the dance , Tom promised .\n",
      "' ' Once upon a time there was a beautiful princess , ' ' Tom began grimly .\n",
      "I like Chinese detective movies , Tom chanted .\n",
      "I must attend my flock , said Tom , sheepishly .\n",
      "This is the Netherlands , Tom stated flatly .\n",
      "It ' s where we store the hay , Tom said loftily .\n",
      "' ' I can eat one hundred and forty - four , ' ' Tom boasted grossly .\n",
      "' ' I ' m mentioned in this book , ' ' said Tom contentedly .\n",
      "' ' I wish I could remember the name of that card game , ' ' said Tom wistfully .\n",
      "' ' This looks like the fruit of the blackthorn , ' ' said Tom slowly .\n",
      "' ' Why shouldn ' t I stir my coffee with a ballpoint pen ? ' ' Tom bickered .\n",
      "' ' The seesaw is upside down , ' ' said Tom saucily .\n",
      "Fire ! yelled Tom alarmingly .\n",
      "One of the tires just blew out , Tom said sparingly .\n",
      "So that ' s the way the wind blows , said Tom vainly .\n",
      "My stereo ' s half - fixed , said Tom monotonously .\n",
      "' ' What ' s a wide - angle lens ? ' ' asked Tom obtusely .\n",
      "' ' I ' m waiting to see the doctor , ' ' said Tom patiently .\n",
      "' ' Europe needs more self - restraint , ' ' said Tom continently .\n",
      "Look at those tall flowers , said Tom gladly .\n",
      "' ' It ' s just gold leaf , ' ' said Tom guiltily .\n",
      "' ' I ' ve an urgent appointment , ' ' said Tom in Russian .\n",
      "That makes 144 , said Tom , grossly .\n",
      "' ' I was the first to climb Mount Everest , ' ' said Tom hilariously .\n",
      "' ' I won ' t tell you anything about my salivary glands , ' ' said Tom secretively .\n",
      "I need to go on a diet , said Tom wastefully .\n",
      "I ' ve caught Moby Dick ! Tom wailed .\n",
      "Company ' s coming , Tom guessed .\n",
      "I feel empty inside , Tom hollered .\n",
      "' ' It ' s my personal magnetism , ' ' said Tom ironically .\n",
      "' ' I ' ve gained thirty pounds , ' ' said Tom heavily .\n",
      "' ' I ' m just an ordinary soldier , ' ' Tom admitted privately .\n",
      "Get the stick , Rover ! Tom called fetchingly .\n",
      "' ' This steamroller is amazing , ' ' said Tom flatteringly .\n",
      "' ' I presented my case to the judge , ' ' Tom said briefly .\n",
      "' ' I haven ' t had my photographs developed yet , ' ' said Tom negatively .\n",
      "' ' She even flies her own jet , ' ' Tom leered .\n",
      "' ' I ' d like to be a Chinese labourer , ' ' said Tom coolly .\n",
      "' ' My pencil is blunt , ' ' said Tom pointlessly .\n",
      "' ' Have you seen my collection of ancient Chinese artifacts ? ' ' asked Tom charmingly .\n",
      "' ' Has my magazine arrived ? ' ' Tom asked periodically .\n",
      "This fowl has been stuffed , said Tom sagely .\n",
      "' ' I bought myself fifty hamburgers and I ' ve only ten left , ' ' said Tom with fortitude .\n",
      "I ' m single , Tom said wanly .\n",
      "' ' Let ' s take a vacation in the south of France , ' ' said Tom nicely .\n",
      "' ' Where shall I plant these water lilies ? ' ' Tom pondered .\n",
      "' ' It ' s the quotient of two integers , ' ' said Tom rationally .\n",
      "Take me to the dance , Tom bawled .\n",
      "I ' d like some Chinese food , said Tom wantonly .\n",
      "' ' These bit patterns will be more readable in groups of 8 , ' ' said Tom bitingly .\n",
      "I ' m a ditch digger , said Tom , trenchantly\n",
      "' ' I wish I had something to write with , ' ' Tom said pensively .\n",
      "Dinna wave that axe aboot , Jimmy ! said Tom heedlessly .\n",
      "' ' I admire East End gangsters , ' ' said Tom crazily .\n",
      "' ' I only have diamonds , clubs and spades , ' ' said Tom heartlessly .\n",
      "' ' I ' m the butcher ' s assistant , ' ' said Tom cuttingly .\n",
      "' ' I compliment the company that makes the Macintosh computer , ' ' said Tom applauding .\n",
      "' ' I ' m losing my hair , ' ' Tom bawled .\n",
      "' ' I have to wear this cast for another six weeks , ' ' said Tom disjointedly .\n",
      "I ' m singing well these days , Tom intoned .\n",
      "Let ' s visit the tombs , said Tom , cryptically .\n",
      "' ' I ' m putting on my T - shirt , shorts , and sunglasses , ' ' Tom summarised .\n",
      "' ' I ' ve joined the navy , ' ' Tom said fleetingly .\n",
      "' ' I know which boyd gets the woym , ' ' said Tom in an oily voice .\n",
      "' ' I still haven ' t struck oil , ' ' said Tom boringly .\n",
      "Please mix me a martini , said Tom , dryly .\n",
      "' ' I ' m just going to put these handcuffs on you , ' ' said Tom manically .\n",
      "' ' That horse looks like a good bet at 20 to 1 , ' ' said Tom oddly .\n",
      "' ' I ' ve mailed the letter , ' ' Tom assented .\n",
      "' ' It ' s only average , ' ' said Tom meanly .\n",
      "' ' Someone bumped into me while I was brushing my teeth , ' ' said Tom with a gleam in his eye .\n",
      "The cheque is in the post , Tom assented .\n",
      "I was completely exonerated , said Tom clearly .\n",
      "' ' I work at a bank , ' ' said Tom tellingly .\n",
      "3 . 142 Tom enumerated piously .\n",
      "I wish I ' d said that , Oscar , said Tom wildly .\n",
      "' ' That ' s price - fixing ! ' ' said Tom caustically .\n",
      "I love hockey , said Tom , puckishly .\n",
      "' ' This Bud ' s for you , ' ' said Tom lightly .\n",
      "' ' This salad dressing has too much vinegar , ' ' said Tom acidly .\n",
      "' ' I ' ve never had a car accident , ' ' said Tom recklessly .\n",
      "' ' I have to sing a run of eighth notes , ' ' said Tom quaveringly .\n",
      "' ' I wonder where the next character is going to appear , ' ' said Tom with a cursory glance .\n",
      "' ' This is the most common language used on micros , ' ' said Tom basically .\n",
      "I have eight children , said Tom , apparently .\n",
      "I love beagles , Tom dogmatized .\n",
      "I need to clear my throat , said Tom phlegmatically .\n",
      "' ' I visit my parents every Sunday , ' ' said Tom weakly .\n",
      "I want to buy that big diamond , Tom said hopefully .\n",
      "Yes , I have read Gulliver ' s Travels , said Tom swiftly .\n",
      "What ' s the name of that street in Paris ? asked Tom ruefully .\n",
      "' ' There ' s no need for silence , ' ' Tom allowed .\n",
      "' ' You must be my host , ' ' Tom guessed .\n",
      "' ' ' ' said Tom blankly .\n",
      "I ' ll clean the chimney , said Tom , fluently\n",
      "' ' I ' ve struck oil ! ' ' said Tom crudely .\n",
      "' ' I won ' t finish in fifth place , ' ' Tom held forth .\n",
      "We ' ve taken over the government , Tom cooed\n",
      "' ' It ' s become much bigger , ' ' said Tom with a groan .\n",
      "' ' Are you all governors ? ' ' Tom asked , bored .\n",
      "' ' Give me a haircut , ' ' Tom said barbarously .\n",
      "Give me some pre - packed cheese slices , said Tom craftily .\n",
      "Balls ! Tom said roundly .\n",
      "She must be wearing mink , Tom inferred .\n",
      "' ' I ' ve got sand in my dinner , ' ' said Tom grittily .\n",
      "' ' I ' d like to eat seventeen cakes , ' ' Tom agreed .\n",
      "I flunked my exam , said Tom , testily .\n",
      "' ' Another plate of seafood for me ! ' ' Tom clamored .\n",
      "' ' Who discovered radium ? ' ' asked Tom curiously .\n",
      "I ' m a mathematician , Tom added summarily .\n",
      "My investments are worth more every day , said Tom appreciatively .\n",
      "' ' Nobody has scored yet in the tennis game , ' ' said Tom lovingly .\n",
      "' ' Stop , horse ! Stop ! ' ' cried Tom woefully .\n",
      "Do you play the guitar ? , Tom asked callously .\n",
      "I was given a shampoo and trim by a Pakistani in Liverpool , said Tom in Urdu .\n",
      "I ' m always exhausted by Friday , said Tom weakly .\n",
      "Have another soft drink , Tom coaxed .\n",
      "My shins are well protected , Tom grieved .\n",
      "' ' Another work week begins , ' ' said Tom mundanely .\n",
      "' ' It ' s made the grass wet , ' ' said Tom after due consideration .\n",
      "' ' That ' s nothing ! ' ' said Tom naughtily .\n",
      "' ' You won the bronze , ' ' said Tom meddlingly .\n",
      "' ' A dog bit me , ' ' said Tom rabidly .\n",
      "Carmen is my favorite opera , said Tom busily .\n",
      "' ' How do you start a model - T Ford without a battery ? ' ' asked Tom crankily .\n",
      "' ' I can no longer hear anything , ' ' said Tom deftly .\n",
      "Have you ever been whitewater rafting ? Tom asked rapidly .\n",
      "' ' Do you buy and sell stolen goods ? ' ' asked Tom offensively .\n",
      "That ' s no beagle ; that ' s a mongrel , Tom muttered .\n",
      "' ' Those cobs are amazing ! ' ' said Tom cornily .\n",
      "' ' It ' s a unit of electric current , ' ' said Tom amply .\n",
      "I ' m a great opera singer , said Tom , being callous .\n",
      "Another batch of shells for me ! Tom clamored .\n",
      "Yes , I have been reading Voltaire , Tom admitted candidly .\n",
      "' ' I think I ' ll use a different font , ' ' said Tom boldly .\n",
      "Well I ' ll be an SOB ! Tom said doggedly .\n",
      "Would you like some soda in your whiskey ? asked Tom caustically .\n",
      "' ' I teach at a university , ' ' Tom professed .\n",
      "I ' ll eat till I burst , Tom agreed .\n",
      "This steamroller really works , said Tom flatteringly .\n",
      "I ' ve inherited a fortune , said Tom , willfully\n",
      "' ' The policeman charged me twenty bucks for speeding , ' ' said Tom finally .\n",
      "' ' This is mutiny ! ' ' said Tom bountifully .\n",
      "' ' I need an injection , ' ' Tom pleaded in vain .\n",
      "' ' Rowing hurts my hands , ' ' said Tom callously .\n",
      "I want you in the navy , said Tom impressively .\n",
      "I wouldn ' t marry you if you were the only woman on earth , said Tom evenly .\n",
      "' ' Who ' s your favorite operatic tenor ? ' ' Tom asked placidly .\n",
      "I ' m not sure about Heisenberg , said Tom uncertainly .\n",
      "' ' You resemble a goat , ' ' said Tom satirically .\n",
      "' ' I ' m going after that red fish , ' ' said Tom erringly .\n",
      "' ' The door ' s ajar , ' ' said Tom openly .\n",
      "Have a ride in my new ambulance , said Tom hospitably .\n",
      "' ' This boat is leaking , ' ' said Tom balefully .\n",
      "I ' m a Soviet agent in England , said Tom bluntly .\n",
      "' ' Eating uranium makes me feel funny , ' ' said Tom radiantly .\n",
      "They are not answering - we ' d better try the knocker , said Tom adoringly .\n",
      "You ' re a wicked glutton , Tom insinuated .\n",
      "I ' m going to fix the roof , Tom translated .\n",
      "I plan to work in a cemetery , Tom plotted gravely .\n",
      "My bid for this contract aims to please , said Tom tenderly .\n",
      "That horse looks like a good bet at 17 to 1 , said Tom oddly .\n",
      "Let ' s get married , said Tom engagingly .\n",
      "I hate Chablis , Tom whined .\n",
      "I ' d like to learn a new card game , Tom said wistfully .\n",
      "' ' I ' ve been to a film festival in Southern France , ' ' said Tom cannily .\n",
      "' ' I ' m on social security , ' ' said Tom dolefully .\n",
      "' ' This is all from memory , ' ' Tom wrote .\n",
      "' ' I have a gift for you , ' ' said Tom presently .\n",
      "' ' I just bought a woollen sweater , ' ' said Tom sheepishly .\n",
      "' ' I can tell which way the wind blows , ' ' said Tom vainly .\n",
      "' ' Would anyone like some Parmesan ? ' ' asked Tom gratingly .\n",
      "I always pray to St . Ignatius , said Tom loyally .\n",
      "Happy Halloween ! Tom said gravely .\n",
      "I ' ll take that , said Tom appropriately .\n",
      "' ' I have to fix the car , ' ' said Tom mechanically .\n",
      "' ' What are these berries ? ' ' Tom rasped .\n",
      "You lamb ! said Tom sheepishly .\n",
      "I ' m here - with a gift ! said Tom presently .\n",
      "' ' I need a pencil sharpener , ' ' said Tom bluntly .\n",
      "Naughtily , Tom said nothing .\n",
      "' ' I don ' t like this Chardonnay , ' ' Tom whined .\n"
     ]
    }
   ],
   "source": [
    "task2 = data[1]\n",
    "print('\\n'.join([' '.join(p['words']) for p in task2 if 'Tom' in p['words']]))"
   ]
  },
  {
   "cell_type": "code",
   "execution_count": 6,
   "metadata": {},
   "outputs": [],
   "source": [
    "def get_prefixes(word):\n",
    "    def load_dict(path):\n",
    "        ret = set()\n",
    "        with codecs.open(path, \"r\", \"utf8\") as r:\n",
    "            for line in r:\n",
    "                ret.add(line[:-1])\n",
    "        return ret\n",
    "    am = load_dict(\"/usr/share/dict/american-english\")\n",
    "    br = load_dict(\"/usr/share/dict/british-english\")\n",
    "    ret = []\n",
    "    x = word\n",
    "    for x in iter(lambda: x[:-1], ''):\n",
    "        if (x in am or x in br) and len(x) > 2:\n",
    "            ret.append(x)\n",
    "    return ret"
   ]
  },
  {
   "cell_type": "code",
   "execution_count": 7,
   "metadata": {},
   "outputs": [],
   "source": [
    "def get_cmu_tree(word, threshold):\n",
    "\n",
    "    stemmer = PorterStemmer()\n",
    "    cmu_trie = get_phoenetic_trie()\n",
    "    if stemmer.stem(word) in cmu:\n",
    "        new_word = stemmer.stem(word)\n",
    "    elif word in cmu:\n",
    "        new_word = word\n",
    "    else:\n",
    "        return get_prefixes(word)\n",
    "    tmp_ret = []\n",
    "    \n",
    "    print(new_word)\n",
    "    for phoneme in cmu[new_word]:\n",
    "        p = phoneme\n",
    "        sub_ret = []\n",
    "        while len(p) > threshold:\n",
    "            sub_sub_ret = []\n",
    "            if p in cmu_trie:\n",
    "                print('Phoneme: ', p)\n",
    "                sub_sub_ret.extend([i for i in cmu_trie[p] if i != word])\n",
    "            else:\n",
    "                sub_sub_ret.extend([])\n",
    "            sub_sub_ret.extend(list(itertools.chain(*[v for k, v in cmu_trie.iteritems(p, shallow=True)\n",
    "                                                      if len(k) == len(p)+1 and word not in v])))\n",
    "            p = p[:-1]\n",
    "            sub_ret.append(sub_sub_ret)\n",
    "        tmp_ret.append(sub_ret)\n",
    "    print(tmp_ret)\n",
    "    # print(tmp_ret)\n",
    "    ret = []\n",
    "    for items in itertools.zip_longest(*tmp_ret):\n",
    "        ret.append(list(itertools.chain(*items)))\n",
    "\n",
    "    # ret = list(itertools.chain(*ret[:threshold]))\n",
    "    ret = list(itertools.chain(*ret))\n",
    "\n",
    "    ret.extend(get_prefixes(word))\n",
    "    return list(set(ret))"
   ]
  },
  {
   "cell_type": "code",
   "execution_count": 63,
   "metadata": {},
   "outputs": [
    {
     "data": {
      "text/plain": [
       "[]"
      ]
     },
     "execution_count": 63,
     "metadata": {},
     "output_type": "execute_result"
    }
   ],
   "source": [
    "get_cmu_tree('saucily', 5)"
   ]
  },
  {
   "cell_type": "code",
   "execution_count": 9,
   "metadata": {},
   "outputs": [],
   "source": [
    "def get_phoenetic_trie():\n",
    "    dd = defaultdict(list)\n",
    "    tree = trie.Trie()\n",
    "    for k, vs in cmu.items():\n",
    "        for v in vs:\n",
    "            dd[','.join(v)].append(k)\n",
    "    for k, v in dd.items():\n",
    "        tree[k.split(',')] = v\n",
    "    return tree"
   ]
  },
  {
   "cell_type": "code",
   "execution_count": 57,
   "metadata": {},
   "outputs": [],
   "source": [
    "stemmer = PorterStemmer()\n",
    "def prefixes(word, threshold=None):\n",
    "    \n",
    "    if not threshold:\n",
    "        stem = stemmer.stem(word)\n",
    "        translation = phonetic_translation(stem)\n",
    "        if stem in cmu:\n",
    "            threshold = len(translation)\n",
    "        else:\n",
    "            threshold = len(translation) - 1\n",
    "        \n",
    "    ret = defaultdict(list)\n",
    "    phonetics = phonetic_translation(word)\n",
    "    seen = {word}\n",
    "    \n",
    "\n",
    "    for i in range(threshold, len(phonetics)):\n",
    "        for k, v in cmu.items():\n",
    "            if phonetics[:i] == v[0][:i]:\n",
    "                \n",
    "                if k not in seen:\n",
    "                    ret[i].append(k)\n",
    "                    seen.add(k)\n",
    "    return ret"
   ]
  },
  {
   "cell_type": "code",
   "execution_count": 62,
   "metadata": {},
   "outputs": [
    {
     "data": {
      "text/plain": [
       "defaultdict(list,\n",
       "            {3: ['winey',\n",
       "              'weinberger',\n",
       "              'weinstein',\n",
       "              'wine',\n",
       "              'weiner',\n",
       "              'whines',\n",
       "              'windup',\n",
       "              'weintraub',\n",
       "              'weinfeld',\n",
       "              \"weinberger's\",\n",
       "              'winer',\n",
       "              \"wine's\",\n",
       "              'whinery',\n",
       "              'weinroth',\n",
       "              'weinstock',\n",
       "              'weinhardt',\n",
       "              'weindel',\n",
       "              'weinhold',\n",
       "              'weinmann',\n",
       "              'wineland',\n",
       "              'weinreb',\n",
       "              'winegarden',\n",
       "              'wineman',\n",
       "              'weinman',\n",
       "              'weinberg',\n",
       "              'wynona',\n",
       "              'whiner',\n",
       "              \"weintz'\",\n",
       "              'wines',\n",
       "              'whining',\n",
       "              \"weinstein's\",\n",
       "              'winery',\n",
       "              'weinrich',\n",
       "              'wyne',\n",
       "              'wineheim',\n",
       "              'weinreich',\n",
       "              'wineberg',\n",
       "              \"winery's\",\n",
       "              \"weintz's\",\n",
       "              'wynes',\n",
       "              'wineries',\n",
       "              'weinert',\n",
       "              'weinzierl',\n",
       "              'whiny',\n",
       "              'weintz',\n",
       "              'weinand',\n",
       "              'weyenberg',\n",
       "              'weininger',\n",
       "              'whiners',\n",
       "              'wining',\n",
       "              'wineinger',\n",
       "              'weinheimer',\n",
       "              'winding',\n",
       "              'winemiller',\n",
       "              'wyner',\n",
       "              'wininger',\n",
       "              'wined',\n",
       "              'whine',\n",
       "              'winings',\n",
       "              'weinbaum',\n",
       "              'weinel',\n",
       "              'wind',\n",
       "              'weinbach',\n",
       "              'weingarten',\n",
       "              'weinger',\n",
       "              'winant']})"
      ]
     },
     "execution_count": 62,
     "metadata": {},
     "output_type": "execute_result"
    }
   ],
   "source": [
    "prefixes('whined')"
   ]
  },
  {
   "cell_type": "code",
   "execution_count": 32,
   "metadata": {},
   "outputs": [
    {
     "data": {
      "text/plain": [
       "False"
      ]
     },
     "execution_count": 32,
     "metadata": {},
     "output_type": "execute_result"
    }
   ],
   "source": [
    "'canne' in cmu"
   ]
  },
  {
   "cell_type": "code",
   "execution_count": 47,
   "metadata": {},
   "outputs": [
    {
     "data": {
      "text/plain": [
       "'archli'"
      ]
     },
     "execution_count": 47,
     "metadata": {},
     "output_type": "execute_result"
    }
   ],
   "source": [
    "stemmer.stem('archly')"
   ]
  },
  {
   "cell_type": "code",
   "execution_count": 51,
   "metadata": {},
   "outputs": [
    {
     "data": {
      "text/plain": [
       "'danger'"
      ]
     },
     "execution_count": 51,
     "metadata": {},
     "output_type": "execute_result"
    }
   ],
   "source": [
    "stemmer.stem('phlegm')"
   ]
  },
  {
   "cell_type": "code",
   "execution_count": 61,
   "metadata": {},
   "outputs": [
    {
     "data": {
      "text/plain": [
       "False"
      ]
     },
     "execution_count": 61,
     "metadata": {},
     "output_type": "execute_result"
    }
   ],
   "source": [
    "'phlegm' in cmu"
   ]
  },
  {
   "cell_type": "code",
   "execution_count": null,
   "metadata": {},
   "outputs": [],
   "source": []
  }
 ],
 "metadata": {
  "kernelspec": {
   "display_name": "Python 3",
   "language": "python",
   "name": "python3"
  },
  "language_info": {
   "codemirror_mode": {
    "name": "ipython",
    "version": 3
   },
   "file_extension": ".py",
   "mimetype": "text/x-python",
   "name": "python",
   "nbconvert_exporter": "python",
   "pygments_lexer": "ipython3",
   "version": "3.5.2"
  }
 },
 "nbformat": 4,
 "nbformat_minor": 2
}
